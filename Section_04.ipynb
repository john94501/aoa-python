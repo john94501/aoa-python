{
  "nbformat": 4,
  "nbformat_minor": 0,
  "metadata": {
    "colab": {
      "provenance": [],
      "authorship_tag": "ABX9TyOZxEHAeoCmjZvHsOh9f6sw",
      "include_colab_link": true
    },
    "kernelspec": {
      "name": "python3",
      "display_name": "Python 3"
    },
    "language_info": {
      "name": "python"
    }
  },
  "cells": [
    {
      "cell_type": "markdown",
      "metadata": {
        "id": "view-in-github",
        "colab_type": "text"
      },
      "source": [
        "<a href=\"https://colab.research.google.com/github/john94501/aoa-python/blob/main/Section_04.ipynb\" target=\"_parent\"><img src=\"https://colab.research.google.com/assets/colab-badge.svg\" alt=\"Open In Colab\"/></a>"
      ]
    },
    {
      "cell_type": "markdown",
      "source": [
        "# Academy of Alameda Python 4\n",
        "\n",
        "\n",
        "## History & Choices\n",
        "\n",
        "At this point in the course you get to decide what to do next with your skills. Before we make that decision, however, let's talk a little about some history.\n",
        "\n",
        "The first computer I used looked like this:\n",
        "\n",
        "![ZX80](https://upload.wikimedia.org/wikipedia/commons/2/24/ZX80.jpg)\n",
        "\n",
        "It did not really have much in the way of graphics, but it was still better than the computers that were in use in businesses and universities around the world. Those were pure text-based systems. \n",
        "\n",
        "\n",
        "\n",
        "\n"
      ],
      "metadata": {
        "id": "ym1n_1KvD158"
      }
    },
    {
      "cell_type": "markdown",
      "source": [
        "There are a few industries that tend to lead when it comes to new technology, and have done for as long as humans have been inventing things. Two of the those are:\n",
        "\n",
        "1. The Military\n",
        "\n",
        "2. Entertainment\n",
        "\n",
        "## Military\n",
        "\n",
        "Unsuprisingly, computers were no different to any of the technologies that came before. One of the earliest programmable computers remained secret for over 30 years, and was instrumental in winning the second world war. Developed in England in the 1940s, at a place called Bletchley Park, it was massive:\n",
        "\n",
        "![Bombe-rebuild.jpg](https://upload.wikimedia.org/wikipedia/commons/5/5c/Bombe-rebuild.jpg)\n",
        "\n",
        "The technology at Bletchley Park was used to secretly decrypt messages being sent by the German and Italian military using a device called Enigma. Since then, we have continued to use computers to both encrypt communciations and to try to decrypt messages. \n",
        "\n",
        "The military today makes use of computers for far more than just deciphering codes, but we can experiment with some simple ciphers in Python and see how computers became such valuable tools for the code breakers at Bletchley Park.\n",
        "\n",
        "## Entertainment\n",
        "\n",
        "Around the late 1970s, lots of computers were being used for research. In their spare time, some of those were programmed to play games. War Games, a movie from 1983, used this idea for its central theme. The W.O.P.R. (War Operations Plan Response) was a big computer with a lot of flashing lights. When the protaganist of the movie, a teenager called David Lightman, accidentally connect to this computer he thinks it is owned by a computer games development company, and he finds this menu:\n",
        "\n",
        "![WarGames](http://pc-museum.com/046-imsai8080/wargames-05.jpg)\n",
        "\n",
        "The programmer of the W.O.P.R. had taught it to play strategy games. The last one on there is more serious than a game. If you haven't seen it, watch the movie to find out how it ends. \n",
        "\n",
        "For our course, we're not going to learn how to program a strategy game; intead, we're going to look at another genre popular around that time: the text based adventure game. In a text-based adventure, you move your character through a world by giving simple commands (e.g. go forward, turn left, turn right). You can't see anything, but instead are given a description of what is in front of you. Some objects you can interact with, others you cannot.\n",
        "\n",
        "Those that did my PacMan course in elementary, might remember one of the key elements of PacMan is a map describing the world, and indicating what is in each grid location. A text-based adventure relies on a map as well, and that is the first thing you will need to build."
      ],
      "metadata": {
        "id": "FP4iZQbFF_D2"
      }
    },
    {
      "cell_type": "markdown",
      "source": [
        "## Choices\n",
        "\n",
        "1. Play with Ciphers - see if you can decrypt a message I've left for you\n",
        "\n",
        "   [Ciphers](https://colab.research.google.com/github/john94501/aoa-python/blob/main/Section_04a.ipynb)\n",
        "\n",
        "\n",
        "2. Create a simple, text-based adventure game\n",
        "\n",
        "   [Adventure Game](https://colab.research.google.com/github/john94501/aoa-python/blob/main/Section_04b.ipynb)"
      ],
      "metadata": {
        "id": "7XYUS4I4OBvx"
      }
    },
    {
      "cell_type": "code",
      "execution_count": null,
      "metadata": {
        "id": "3-cXwjpoDyOG"
      },
      "outputs": [],
      "source": []
    }
  ]
}