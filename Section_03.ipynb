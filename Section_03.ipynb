{
  "nbformat": 4,
  "nbformat_minor": 0,
  "metadata": {
    "colab": {
      "provenance": [],
      "authorship_tag": "ABX9TyPu76DxvbE6Lo80PIsf/ijm",
      "include_colab_link": true
    },
    "kernelspec": {
      "name": "python3",
      "display_name": "Python 3"
    },
    "language_info": {
      "name": "python"
    }
  },
  "cells": [
    {
      "cell_type": "markdown",
      "metadata": {
        "id": "view-in-github",
        "colab_type": "text"
      },
      "source": [
        "<a href=\"https://colab.research.google.com/github/john94501/aoa-python/blob/main/Section_03.ipynb\" target=\"_parent\"><img src=\"https://colab.research.google.com/assets/colab-badge.svg\" alt=\"Open In Colab\"/></a>"
      ]
    },
    {
      "cell_type": "markdown",
      "source": [
        "# Academy of Alameda Python 3\n",
        "\n",
        "## Section 3 - Programming Fundamentals\n",
        "\n",
        "   * Conditionals\n",
        "   * Looping\n",
        "   * Functions"
      ],
      "metadata": {
        "id": "enzUcL4N0OSG"
      }
    },
    {
      "cell_type": "markdown",
      "source": [
        "## Conditionals\n",
        "\n",
        "So far, we have seen simple expressions, but nothing that allows the computer to make any decisions based on its calculations. The first construct we will look at is the one that is most commonly used to achieve that: the `if` statement.\n",
        "\n",
        "Note: This is also the first time we are going to see why Python was so picky about its indentation in the first section of the course."
      ],
      "metadata": {
        "id": "EhrX3kHpz9P5"
      }
    },
    {
      "cell_type": "markdown",
      "source": [
        "Let's create a simple program to determine whether a number is odd or even and print out which it is. We will build on this later in the section, but for now we will just define the number in a variable at the top of the block.\n",
        "\n",
        "The `if` will test whether the remainder after dividing the number by 2 is zero. If it is, we print 'even'. We will use the `else` keyword, which can only be used after an `if`, to define what to print when the remainder is not zero."
      ],
      "metadata": {
        "id": "zeTNdz4I0lAE"
      }
    },
    {
      "cell_type": "code",
      "source": [
        "my_number = 101\n",
        "\n",
        "# Hint: We're going to use the remainder operator, %, to determine whether our\n",
        "# number is odd or even.\n",
        "\n",
        "if my_number % 2 == 0:\n",
        "  print(\"{} is even\".format(my_number))\n",
        "else:\n",
        "  print(\"{} is odd\".format(my_number))"
      ],
      "metadata": {
        "id": "AlUMpUC-0JCn"
      },
      "execution_count": null,
      "outputs": []
    },
    {
      "cell_type": "markdown",
      "source": [
        "Change the value of `my_number` in the first line and re-run it to see whether it works. "
      ],
      "metadata": {
        "id": "nBngY87m1bkc"
      }
    },
    {
      "cell_type": "markdown",
      "source": [
        "There is another keyword, `elif`, which can be used if you wanted to test something different, and you can add as many of those in between the `if` and the `else` as needed.\n",
        "\n",
        "For example, in a game you might want to react to different keys, so you may write something like this:\n",
        "\n",
        "```\n",
        "if key == LEFT_ARROW:\n",
        "  player.moveLeft()\n",
        "elif key == RIGHT_ARROW:\n",
        "  player.moveRight()\n",
        "elif key == UP_ARROW:\n",
        "  player.moveForward()\n",
        "elif key == DOWN_ARROW:\n",
        "  player.moveBackward()\n",
        "else:\n",
        "  player.stopMoving()\n",
        "```\n",
        "\n",
        "In recent versions of Python, a new construct has been added to simplify these conditional trees. Other languages, even ones dating back to the 1970s, have had this construct, but Python only just included in recently. The Python version uses a slightly different name for it too: `match` / `case`.\n",
        "\n",
        "The code above could be re-written as this:\n",
        "\n",
        "```\n",
        "match key:\n",
        "  case LEFT_ARROW:\n",
        "    player.moveLeft()\n",
        "  case RIGHT_ARROW:\n",
        "    player.moveRight()\n",
        "  case UP_ARROW:\n",
        "    player.moveForward()\n",
        "  case DOWN_ARROW:\n",
        "    player.moveBackward()\n",
        "  case _:\n",
        "    player.stopMoving()\n",
        "```\n",
        "\n",
        "The `case _` is Python's version of match anything else.\n"
      ],
      "metadata": {
        "id": "2nGxn8_h2V3j"
      }
    },
    {
      "cell_type": "markdown",
      "source": [
        "### Exercise:\n",
        "\n",
        "Try writing a version of the code above that prints whether the number is divisible by 10 or by 5 or not by either. (If it is divisible by 10, just print that since we know anything divisible by 10 will be divisible by 5 too). "
      ],
      "metadata": {
        "id": "m1qkJgpx3nKK"
      }
    },
    {
      "cell_type": "code",
      "source": [
        "# Hint: You will need to test divisible by 10 first"
      ],
      "metadata": {
        "id": "zAIZjC1g1YPr"
      },
      "execution_count": null,
      "outputs": []
    },
    {
      "cell_type": "markdown",
      "source": [
        "## Looping\n",
        "\n",
        "The next construct we're going to look at is less about making decisions and more about saving time: our time!\n",
        "\n",
        "If I asked you to modify the simple even/odd printing program above to do that for all the numbers from 1 to 10, you could certainly copy & paste it 10 times, change the `my_number` assignment before each one and it would work. But if I asked you to do the same for all the numbers between 1 and 1,000,000, you would probably not be so happy with your copy & paste approach.\n",
        "\n",
        "Luckily for you, even the earliest programmers were unhappy with that idea, and programming languages like Python include ways to repeat the same code many times, with different values. That is called looping, and we will look at several types of loop, and discuss when to use each one."
      ],
      "metadata": {
        "id": "aaUocp4K4YJY"
      }
    },
    {
      "cell_type": "markdown",
      "source": [
        "### The `for` Loop\n",
        "\n",
        "First up is the `for` loop. This one loops over all the values in a tuple, list, dictionary, set, string or other _iterable_ type. Iterable just means we can get the values one after another.\n",
        "\n",
        "Let's rewrite the odd/even code to loop through the numbers 1 to 10."
      ],
      "metadata": {
        "id": "QQa3pYMs5fCQ"
      }
    },
    {
      "cell_type": "code",
      "source": [
        "my_numbers = ( 1, 2, 3, 4, 5, 6, 7, 8, 9, 10 )\n",
        "\n",
        "for my_number in my_numbers:\n",
        "  if my_number % 2 == 0:\n",
        "    print(\"{} is even\".format(my_number))\n",
        "  else:\n",
        "    print(\"{} is odd\".format(my_number))"
      ],
      "metadata": {
        "id": "glRnjSNN6dgy"
      },
      "execution_count": null,
      "outputs": []
    },
    {
      "cell_type": "markdown",
      "source": [
        "OK, that's better than copy & paste ten times, but honestly setting up that tuple with 1,000,000 values would not be much better than the copy & paste.\n",
        "\n",
        "Luckily, those early programmers were also lazy like us, and they created a way to get that tuple without typing it. That is the `range()` function and it can be used in a number of different ways.\n",
        "\n",
        "The simplest way is just to specify the number of elements you want, and it will generate them from 0 to that number minus 1. For example, range(4) -> ( 0, 1, 2, 3 )\n",
        "\n",
        "Try it in the odd/even code here:"
      ],
      "metadata": {
        "id": "RRjLKYI36s4L"
      }
    },
    {
      "cell_type": "code",
      "source": [
        "my_numbers = range(10)\n",
        "\n",
        "for my_number in my_numbers:\n",
        "  if my_number % 2 == 0:\n",
        "    print(\"{} is even\".format(my_number))\n",
        "  else:\n",
        "    print(\"{} is odd\".format(my_number))"
      ],
      "metadata": {
        "id": "59L7uQcH6qaF"
      },
      "execution_count": null,
      "outputs": []
    },
    {
      "cell_type": "markdown",
      "source": [
        "What do you notice? How could we fix that?"
      ],
      "metadata": {
        "id": "gpZw84QY7tss"
      }
    },
    {
      "cell_type": "markdown",
      "source": [
        "The easiest way is to use one of the other forms of the `range()` function which lets you specify the starting value:\n",
        "\n",
        "`range(start, stop)`\n",
        "\n",
        "Try it and see what you get:"
      ],
      "metadata": {
        "id": "lkn-PqX9721d"
      }
    },
    {
      "cell_type": "code",
      "source": [
        "my_numbers = range(10)\n",
        "\n",
        "for my_number in my_numbers:\n",
        "  if my_number % 2 == 0:\n",
        "    print(\"{} is even\".format(my_number))\n",
        "  else:\n",
        "    print(\"{} is odd\".format(my_number))"
      ],
      "metadata": {
        "id": "CiDQW20s7qf1"
      },
      "execution_count": null,
      "outputs": []
    },
    {
      "cell_type": "markdown",
      "source": [
        "Probabaly not what you expected, but the `stop` is actually one after the last number you want. Now you know that, fix the code and maybe make it try the numbers from 1 to 20."
      ],
      "metadata": {
        "id": "MuTax5zj8VLZ"
      }
    },
    {
      "cell_type": "markdown",
      "source": [
        "It is more common for the `range()` function to be in the `for` loop line like this when we're writing code:\n",
        "\n",
        "```\n",
        "for my_number in range(10):\n",
        "  if my_number % 2 == 0:\n",
        "    print(\"{} is even\".format(my_number))\n",
        "  else:\n",
        "    print(\"{} is odd\".format(my_number))\n",
        "```"
      ],
      "metadata": {
        "id": "LIG1AZT88xfi"
      }
    },
    {
      "cell_type": "markdown",
      "source": [
        "### Bonus Exercise\n",
        "\n",
        "The final version of the `range()` function is for _skip counting_ - you can add a third number to the list that says how many to add each time. Try it below and see what you get."
      ],
      "metadata": {
        "id": "kWzhLoK89TmJ"
      }
    },
    {
      "cell_type": "code",
      "source": [
        "for my_number in range(3, 22, 3):\n",
        "  if my_number % 2 == 0:\n",
        "    print(\"{} is even\".format(my_number))\n",
        "  else:\n",
        "    print(\"{} is odd\".format(my_number))"
      ],
      "metadata": {
        "id": "2j1CL0WG8SXR"
      },
      "execution_count": null,
      "outputs": []
    },
    {
      "cell_type": "markdown",
      "source": [
        "## While Loops\n",
        "\n",
        "Sometimes we don't know how many times we will need to loop. For example, the game loop in a video game needs to keep looping until the game is over. Different programming languages implement this kind of loop in different ways, but the one chosen by Python is a common one: the `while` loop."
      ],
      "metadata": {
        "id": "xz7MBtvk-BN9"
      }
    },
    {
      "cell_type": "code",
      "source": [
        "my_number = 1\n",
        "\n",
        "while my_number < 11:\n",
        "  if my_number % 2 == 0:\n",
        "    print(\"{} is even\".format(my_number))\n",
        "  else:\n",
        "    print(\"{} is odd\".format(my_number))\n",
        "  my_number += 1"
      ],
      "metadata": {
        "id": "wk30qCDG9s-x"
      },
      "execution_count": null,
      "outputs": []
    },
    {
      "cell_type": "markdown",
      "source": [
        "That is not really any better than the previous version, but if we were to think about the video game loop example, that might look like this:\n",
        "\n",
        "```\n",
        "tick = 0\n",
        "gameOver = False\n",
        "while not gameOver:\n",
        "  gameOver = do_game_stuff()\n",
        "  tick += 1\n",
        "print(\"Game Over\")\n",
        "```\n",
        "That will loop until the `do_game_stuff()` function returns True, indicating that the game is over.\n"
      ],
      "metadata": {
        "id": "9yAhIBxc_exs"
      }
    },
    {
      "cell_type": "markdown",
      "source": [
        "### Breaking Out (Of Loops)\n",
        "\n",
        "While it should always be possible to define the exit condition for a loop in the while statetment, there are times when it might be more complicated to do so.\n",
        "\n",
        "There are also cases where exiting the loop is only expected to happen in really serious situations. In systems that are meant to run forever, it is possible that the loop may be what programmers refer to as an _infinite loop_ - one where there is no exit condition and the loop will carry on forever.\n",
        "\n",
        "These can be very dangerous, but there are times when they are the right thing to do.\n",
        "\n",
        "Should we need to break out of the loop, perhaps to restart the whole system in case of a serious error, we can use the `break` keyword.\n",
        "\n",
        "Here is a very contrived version of the code above to show this (you would never write this in this way normally since the end condition can be easily tested in the while statement)."
      ],
      "metadata": {
        "id": "30sX6PsGAIki"
      }
    },
    {
      "cell_type": "code",
      "source": [
        "my_number = 1\n",
        "\n",
        "while True:\n",
        "  if my_number % 2 == 0:\n",
        "    print(\"{} is even\".format(my_number))\n",
        "  else:\n",
        "    print(\"{} is odd\".format(my_number))\n",
        "  my_number += 1\n",
        "  if my_number == 11:\n",
        "    break"
      ],
      "metadata": {
        "id": "6t6jypNL_MjB"
      },
      "execution_count": null,
      "outputs": []
    },
    {
      "cell_type": "markdown",
      "source": [
        "## Functions\n",
        "\n",
        "We've already seen some functions, like `len()` and `range()` but those were built in functions that come with Python. We can also write our own functions.\n",
        "\n",
        "Why would we do that?\n",
        "\n",
        "There are a few reasons:\n",
        "\n",
        "1. If we want to use the same fragment of code in a lot of places, we can write it once and just call it.\n",
        "2. It is easier to test and maintain programs if they are split into smaller pieces.\n",
        "3. We may want to make the function available to others in a library.\n",
        "\n",
        "Let's write our odd/even code as a function."
      ],
      "metadata": {
        "id": "yLTgWt4PB-pZ"
      }
    },
    {
      "cell_type": "code",
      "source": [
        "def oddEven(the_number):\n",
        "  if the_number % 2 == 0:\n",
        "    print(\"{} is even\".format(the_number))\n",
        "  else:\n",
        "    print(\"{} is odd\".format(the_number))\n",
        "\n",
        "for my_number in range(1, 11):\n",
        "  oddEven(my_number)"
      ],
      "metadata": {
        "id": "j_HfWOBnBg8A"
      },
      "execution_count": null,
      "outputs": []
    },
    {
      "cell_type": "markdown",
      "source": [
        "We use the keyword `def` to tell Python we are defining a function. After that is the name of the function, and, in parentheses, a list of parameters it needs.\n",
        "\n",
        "Unlike some languages, we do not need to tell Python what type of parameters they are, nor do we need to tell it whether we are returning a value or not. In this case, we are not returning anything. If we want to, the `return` keyword allows us to do that."
      ],
      "metadata": {
        "id": "Kn-itnR2DFQn"
      }
    },
    {
      "cell_type": "markdown",
      "source": [
        "### Bonus Exercise\n",
        "\n",
        "Try re-writing the code above so that the function returns the string \"odd\" or \"even\" and the main code prints the line."
      ],
      "metadata": {
        "id": "CxsZmPUHDrJG"
      }
    },
    {
      "cell_type": "code",
      "source": [],
      "metadata": {
        "id": "SsO9J9QbC57h"
      },
      "execution_count": null,
      "outputs": []
    },
    {
      "cell_type": "markdown",
      "source": [
        "## Libraries\n",
        "\n",
        "I mentioned you may want to write your code as functions so you can share it with others. When you do that, and somebody wants to use your function, they will need to `import` the package it is part of. \n",
        "\n",
        "Here we import the random number package so we can generate random numbers to test."
      ],
      "metadata": {
        "id": "oYal54EQD7Ne"
      }
    },
    {
      "cell_type": "code",
      "source": [
        "import random\n",
        "\n",
        "def oddEven(the_number):\n",
        "  if the_number % 2 == 0:\n",
        "    print(\"{} is even\".format(the_number))\n",
        "  else:\n",
        "    print(\"{} is odd\".format(the_number))\n",
        "\n",
        "for i in range(10):\n",
        "  # random.randint(a, b) generates a random number between a and b inclusive\n",
        "  oddEven(random.randint(1,10))       \n",
        "                                            "
      ],
      "metadata": {
        "id": "uIAAziPoEmqA"
      },
      "execution_count": null,
      "outputs": []
    },
    {
      "cell_type": "markdown",
      "source": [
        "One of the reasons that Python has been so successful is the large number of libraries available for it, covering everything from data science and machine learning to a complete game engine (PyGame) and pretty much everything in between.\n",
        "\n",
        "In addition to the libraries that come with it, additional libraies can be downloaded and installed very easily when needed. We will see this later in the course. "
      ],
      "metadata": {
        "id": "62VhfvatFXC0"
      }
    },
    {
      "cell_type": "markdown",
      "source": [
        "# Bonus Exercise\n",
        "\n",
        "1. Write a function to convert feet and inches into decimal feet\n",
        "\n",
        "2. Write a function to convert decimal feet into centimeters\n",
        "\n",
        "3. Write a function to convert centimeters to meters and centimeters"
      ],
      "metadata": {
        "id": "RcVb941oGSlJ"
      }
    },
    {
      "cell_type": "code",
      "source": [
        "def feetAndInches(feet, inches):\n",
        "  # Hint: Replace this next line with the correct calculation\n",
        "  return 0.0"
      ],
      "metadata": {
        "id": "jiBNG8HwEoGY"
      },
      "execution_count": null,
      "outputs": []
    },
    {
      "cell_type": "code",
      "source": [
        "def feetToCentimeters(feet):\n",
        "  # Hint: Replace this next line with the correct calculation\n",
        "  # There are 30.48 cm per foot \n",
        "  return 0.0"
      ],
      "metadata": {
        "id": "L8pirLF8G6M9"
      },
      "execution_count": null,
      "outputs": []
    },
    {
      "cell_type": "code",
      "source": [
        "def centimeteresToMeters(cm):\n",
        "  # Hint: You can return a tuple with (m, cm)\n",
        "  return (0, 0)"
      ],
      "metadata": {
        "id": "mvva83ssHS5T"
      },
      "execution_count": null,
      "outputs": []
    },
    {
      "cell_type": "code",
      "source": [
        "# Here is the main program needed to test your functions. Change the\n",
        "# first two values as needed to match your height\n",
        "my_height_feet = 6\n",
        "my_height_inches = 2\n",
        "\n",
        "feet = feetAndInches(my_height_feet, my_height_inches)\n",
        "cm = feetToCentimeters(feet)\n",
        "(m, cm) = centimeteresToMeters(cm)\n",
        "print(\"My height is {} m and {} cm\".format(m, cm))"
      ],
      "metadata": {
        "id": "0SNNxfoDHlf_"
      },
      "execution_count": null,
      "outputs": []
    },
    {
      "cell_type": "markdown",
      "source": [
        "[Next](https://colab.research.google.com/github/john94501/aoa-python/blob/main/Section_04.ipynb)"
      ],
      "metadata": {
        "id": "cGaXonDQPBn7"
      }
    }
  ]
}