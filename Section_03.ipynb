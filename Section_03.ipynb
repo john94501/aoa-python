{
  "nbformat": 4,
  "nbformat_minor": 0,
  "metadata": {
    "colab": {
      "provenance": [],
      "authorship_tag": "ABX9TyNutqgKsTPsrujq8ebbnSo5",
      "include_colab_link": true
    },
    "kernelspec": {
      "name": "python3",
      "display_name": "Python 3"
    },
    "language_info": {
      "name": "python"
    }
  },
  "cells": [
    {
      "cell_type": "markdown",
      "metadata": {
        "id": "view-in-github",
        "colab_type": "text"
      },
      "source": [
        "<a href=\"https://colab.research.google.com/github/john94501/aoa-python/blob/main/Section_03.ipynb\" target=\"_parent\"><img src=\"https://colab.research.google.com/assets/colab-badge.svg\" alt=\"Open In Colab\"/></a>"
      ]
    },
    {
      "cell_type": "markdown",
      "source": [
        "# Academy of Alameda Python 3\n",
        "\n",
        "## Section 3 - Programming Fundamentals\n",
        "\n",
        "   * Conditionals\n",
        "   * Looping\n",
        "   * Functions"
      ],
      "metadata": {
        "id": "enzUcL4N0OSG"
      }
    },
    {
      "cell_type": "markdown",
      "source": [
        "## Conditionals\n",
        "\n",
        "So far, we have seen simple expressions, but nothing that allows the computer to make any decisions based on its calculations. The first construct we will look at is the one that is most commonly used to achieve that: the `if` statement.\n",
        "\n",
        "Note: This is also the first time we are going to see why Python was so picky about its indentation in the first section of the course."
      ],
      "metadata": {
        "id": "EhrX3kHpz9P5"
      }
    },
    {
      "cell_type": "markdown",
      "source": [
        "Let's create a simple program to determine whether a number is odd or even and print out which it is. We will build on this later in the section, but for now we will just define the number in a variable at the top of the block.\n",
        "\n",
        "The `if` will test whether the remainder after dividing the number by 2 is zero. If it is, we print 'even'. We will use the `else` keyword, which can only be used after an `if`, to define what to print when the remainder is not zero."
      ],
      "metadata": {
        "id": "zeTNdz4I0lAE"
      }
    },
    {
      "cell_type": "code",
      "source": [
        "my_number = 101\n",
        "\n",
        "# Hint: We're going to use the remainder operator, %, to determine whether our\n",
        "# number is odd or even.\n",
        "\n",
        "if my_number % 2 == 0:\n",
        "  print(\"{} is even\".format(my_number))\n",
        "else:\n",
        "  print(\"{} is odd\".format(my_number))"
      ],
      "metadata": {
        "colab": {
          "base_uri": "https://localhost:8080/"
        },
        "id": "AlUMpUC-0JCn",
        "outputId": "2f1dd65d-587c-4346-aa4a-a26667f3e4ab"
      },
      "execution_count": 3,
      "outputs": [
        {
          "output_type": "stream",
          "name": "stdout",
          "text": [
            "101 is odd\n"
          ]
        }
      ]
    },
    {
      "cell_type": "markdown",
      "source": [
        "Change the value of `my_number` in the first line and re-run it to see whether it works. "
      ],
      "metadata": {
        "id": "nBngY87m1bkc"
      }
    },
    {
      "cell_type": "markdown",
      "source": [
        "There is another keyword, `elif`, which can be used if you wanted to test something different, and you can add as many of those in between the `if` and the `else` as needed.\n",
        "\n",
        "For example, in a game you might want to react to different keys, so you may write something like this:\n",
        "\n",
        "```\n",
        "if key == LEFT_ARROW:\n",
        "  player.moveLeft()\n",
        "elif key == RIGHT_ARROW:\n",
        "  player.moveRight()\n",
        "elif key == UP_ARROW:\n",
        "  player.moveForward()\n",
        "elif key == DOWN_ARROW:\n",
        "  player.moveBackward()\n",
        "else:\n",
        "  player.stopMoving()\n",
        "```\n",
        "\n",
        "We will see later there is another conditional construct that can be used for cases like this, but `if` / `elif` / `else` is the more commonly used conditional construct.\n"
      ],
      "metadata": {
        "id": "2nGxn8_h2V3j"
      }
    },
    {
      "cell_type": "markdown",
      "source": [
        "### Exercise:\n",
        "\n",
        "Try writing a version of the code above that prints whether the number is divisible by 10 or by 5 or not by either. (If it is divisible by 10, just print that since we know anything divisible by 10 will be divisible by 5 too). "
      ],
      "metadata": {
        "id": "m1qkJgpx3nKK"
      }
    },
    {
      "cell_type": "code",
      "source": [
        "# Hint: You will need to test divisible by 10 first"
      ],
      "metadata": {
        "id": "zAIZjC1g1YPr"
      },
      "execution_count": 3,
      "outputs": []
    }
  ]
}