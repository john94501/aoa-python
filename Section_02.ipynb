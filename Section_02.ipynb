{
  "nbformat": 4,
  "nbformat_minor": 0,
  "metadata": {
    "colab": {
      "provenance": [],
      "authorship_tag": "ABX9TyNxL+xq641lfY5xThJ0qgKd",
      "include_colab_link": true
    },
    "kernelspec": {
      "name": "python3",
      "display_name": "Python 3"
    },
    "language_info": {
      "name": "python"
    }
  },
  "cells": [
    {
      "cell_type": "markdown",
      "metadata": {
        "id": "view-in-github",
        "colab_type": "text"
      },
      "source": [
        "<a href=\"https://colab.research.google.com/github/john94501/aoa-python/blob/main/Section_02.ipynb\" target=\"_parent\"><img src=\"https://colab.research.google.com/assets/colab-badge.svg\" alt=\"Open In Colab\"/></a>"
      ]
    },
    {
      "cell_type": "markdown",
      "source": [
        "# Academy of Alameda Python 2\n",
        "\n",
        "## Data Structures\n",
        "\n",
        "In the last session we saw some of the basic types that Python has, integers, real numbers and strings. Python, in common with most modern programming languages, offers more complex data types that can be used without the need to write them from scratch - in the early days of home computing, students had to learn how to build these data structures using simple building blocks.\n",
        "\n",
        "The first two we will look at are called `tuples` and `lists`. At first, they may appear to be the same thing, but there are some key differences between them.*italicized text*\n"
      ],
      "metadata": {
        "id": "P2W2g4QZGue-"
      }
    },
    {
      "cell_type": "markdown",
      "source": [
        "## Tuples\n",
        "\n",
        "Tuples are written as lists of values inside parentheses, and they may be assigned to variables just like any of the simpler types we saw in the last session:"
      ],
      "metadata": {
        "id": "RZTA14azNC9R"
      }
    },
    {
      "cell_type": "code",
      "source": [
        "my_tuple = (1, 2, 3, 4)\n",
        "print(my_tuple)"
      ],
      "metadata": {
        "id": "qKl8PenRNalK"
      },
      "execution_count": null,
      "outputs": []
    },
    {
      "cell_type": "markdown",
      "source": [
        "As you might expect, you can also access individual elements of the tuple, using the `[]` notation we used to access individual characters of a string, or even find out how many elements are in it:"
      ],
      "metadata": {
        "id": "RCOjP39pNeem"
      }
    },
    {
      "cell_type": "code",
      "execution_count": null,
      "metadata": {
        "id": "cl1QnP2_Grgp"
      },
      "outputs": [],
      "source": [
        "print(my_tuple[0])"
      ]
    },
    {
      "cell_type": "code",
      "source": [
        "print(len(my_tuple))"
      ],
      "metadata": {
        "id": "gTFb6-bjN3D4"
      },
      "execution_count": null,
      "outputs": []
    },
    {
      "cell_type": "markdown",
      "source": [
        "That second example used a **_function_**, `len()` to return the length of the tuple. The `len()` function can also be used with lists, and with strings. We will see more functions later in the course."
      ],
      "metadata": {
        "id": "alD07vr6N6Z5"
      }
    },
    {
      "cell_type": "markdown",
      "source": [
        "Try writing something to print the 2nd and 3rd elements of `my_tuple` in the block below."
      ],
      "metadata": {
        "id": "_1WkVkVPOgFM"
      }
    },
    {
      "cell_type": "code",
      "source": [
        "# Hint: Remember how we accessed consecutive characters in a string\n"
      ],
      "metadata": {
        "id": "7QuWBfRzOnPz"
      },
      "execution_count": null,
      "outputs": []
    },
    {
      "cell_type": "markdown",
      "source": [
        "You cannot directly add new values to a tuple, but you can combine two tuples to form a new one (the `union` of the two tuples):"
      ],
      "metadata": {
        "id": "APxQRGiIPtUr"
      }
    },
    {
      "cell_type": "code",
      "source": [
        "my_tuple = (1, 2, 3, 4, 5)\n",
        "print(my_tuple)\n",
        "my_tuple += (6,)\n",
        "print(my_tuple)\n",
        "# Notce the comma there to make sure Python realizes that this is a tuple and\n",
        "# not just an expression."
      ],
      "metadata": {
        "id": "jPUH53LbP9kE"
      },
      "execution_count": null,
      "outputs": []
    },
    {
      "cell_type": "markdown",
      "source": [
        "Try modifying that block to add more than one element to the tuple."
      ],
      "metadata": {
        "id": "Sr2-ozqDQeoh"
      }
    },
    {
      "cell_type": "markdown",
      "source": [
        "What you cannot do with a tuple is change the value of any of its elements. This is the main difference between tuples and lists. List elements can be changed."
      ],
      "metadata": {
        "id": "aI1AMYQiORFf"
      }
    },
    {
      "cell_type": "code",
      "source": [
        "my_tuple[0] = 0"
      ],
      "metadata": {
        "id": "BRYsIM7FPEGr"
      },
      "execution_count": null,
      "outputs": []
    },
    {
      "cell_type": "markdown",
      "source": [
        "## Lists\n",
        "\n",
        "So, let's take a look at lists. As you might expect, they are very similar. Instead of using parentheses, you define lists using square brackets.\n",
        "\n",
        "Note: Some programming languages call lists `arrays`."
      ],
      "metadata": {
        "id": "bR3SWVHpQz5e"
      }
    },
    {
      "cell_type": "code",
      "source": [
        "my_list = [1, 2, 3, 4]\n",
        "print(my_list)"
      ],
      "metadata": {
        "id": "QrYQgu4ZQwc0"
      },
      "execution_count": null,
      "outputs": []
    },
    {
      "cell_type": "markdown",
      "source": [
        "Write the code needed to print the first element of the list, and the length of the list in the code block below."
      ],
      "metadata": {
        "id": "VmAJJLsxRJwp"
      }
    },
    {
      "cell_type": "code",
      "source": [],
      "metadata": {
        "id": "KqSIE_FkRQ8m"
      },
      "execution_count": null,
      "outputs": []
    },
    {
      "cell_type": "markdown",
      "source": [
        "Adding to a list is same as well:"
      ],
      "metadata": {
        "id": "DKjnAsQvRUM3"
      }
    },
    {
      "cell_type": "code",
      "source": [
        "my_list = [1, 2, 3, 4, 5]\n",
        "print(my_list)\n",
        "my_list += [6, ]\n",
        "print(my_list)"
      ],
      "metadata": {
        "id": "wbZjj2Z2N1P9"
      },
      "execution_count": null,
      "outputs": []
    },
    {
      "cell_type": "markdown",
      "source": [
        "But now you can change the values as well:"
      ],
      "metadata": {
        "id": "dlCnjlvIRmfB"
      }
    },
    {
      "cell_type": "code",
      "source": [
        "my_list[0] = 100\n",
        "print(my_list)"
      ],
      "metadata": {
        "id": "vm-YbjRSRkbn"
      },
      "execution_count": null,
      "outputs": []
    },
    {
      "cell_type": "markdown",
      "source": [
        "## Multiplication & Tuples/Lists\n",
        "\n",
        "We saw in the first session that the multiplication operator, `*`, has some special behaviors when it comes to strings. That behavior is carried into tuples and lists as well. See if you can predict what these two blocks will do before you run them."
      ],
      "metadata": {
        "id": "GtcEMMr0kPBX"
      }
    },
    {
      "cell_type": "code",
      "source": [
        "my_tuple = (1, ) * 40\n",
        "print(my_tuple)\n",
        "print(len(my_tuple))"
      ],
      "metadata": {
        "id": "YOrAdd66RzJ-"
      },
      "execution_count": null,
      "outputs": []
    },
    {
      "cell_type": "code",
      "source": [
        "my_list = [1, 2] * 10\n",
        "print(my_list)\n",
        "print(len(my_list))"
      ],
      "metadata": {
        "id": "lVj81LCEkx0H"
      },
      "execution_count": null,
      "outputs": []
    },
    {
      "cell_type": "markdown",
      "source": [
        "### Not Just Numbers\n",
        "\n",
        "Lists and tuples are not limited to just number types. Nor are they limited to holding all identical types of value. As an exercise, create:\n",
        "1. A list of strings\n",
        "2. A tuple containing both numbers (integer or real) and strings"
      ],
      "metadata": {
        "id": "XjFT16svlggu"
      }
    },
    {
      "cell_type": "code",
      "source": [
        "# List of strings\n",
        "my_list = [ ]\n",
        "\n",
        "# Tuple of mixed values\n",
        "my_tuple = ( )"
      ],
      "metadata": {
        "id": "8TZiaLHYl7u8"
      },
      "execution_count": null,
      "outputs": []
    },
    {
      "cell_type": "markdown",
      "source": [
        "## Dictionaries\n",
        "\n",
        "A dictionary is a book where you can look up the definition of words. Using more programming style terminology, the word you are looking up is the _key_ and the definition you get is the _value_.\n",
        "\n",
        "In Python, a dictionary is a data structure that allows you to do just that, but they are not limited to just words & their definitions.\n",
        "\n",
        "Here is a simple example:"
      ],
      "metadata": {
        "id": "N-F8XxV-lXIB"
      }
    },
    {
      "cell_type": "code",
      "source": [
        "my_dictionary = { \"apple\": \"fruit\", \"carrot\": \"vegetable\", \"dog\": \"animal\", }\n",
        "print(my_dictionary)"
      ],
      "metadata": {
        "id": "uALnnHT9nYrP"
      },
      "execution_count": null,
      "outputs": []
    },
    {
      "cell_type": "markdown",
      "source": [
        "Dictionaries are defined using braces, `{}`, but rather than a simple list of comma separated values, they contain a comma separated list of _key_: _value_ pairs.\n",
        "\n",
        "We can access individual values, but not using the numeric positions. Instead, we access the values using the keys. Try writing the code to print out the value associated with `carrot`."
      ],
      "metadata": {
        "id": "xDi2Bqosnq5I"
      }
    },
    {
      "cell_type": "code",
      "source": [
        "# Hint: use the [] syntax again, but the key is not a number now, but a string"
      ],
      "metadata": {
        "id": "wN1JDW10kCD5"
      },
      "execution_count": null,
      "outputs": []
    },
    {
      "cell_type": "markdown",
      "source": [
        "As with lists, we can extend the dictionary or change existing values inside it.\n",
        "\n",
        "Try changing one of the values above, or adding a new key/value pair:"
      ],
      "metadata": {
        "id": "Ln0EjVRZoeWa"
      }
    },
    {
      "cell_type": "code",
      "source": [],
      "metadata": {
        "id": "XqZHOBovorB8"
      },
      "execution_count": null,
      "outputs": []
    },
    {
      "cell_type": "markdown",
      "source": [
        "### Length\n",
        "\n",
        "We can also use the `len()` function we saw before on a dictionary - what value do you think you will get for `len(my_dictionary)`? Try it, and see if you were correct."
      ],
      "metadata": {
        "id": "nk8G8e_xorxi"
      }
    },
    {
      "cell_type": "code",
      "source": [
        "print(len(my_dictionary))"
      ],
      "metadata": {
        "id": "mQ00VPiVoNr_"
      },
      "execution_count": null,
      "outputs": []
    },
    {
      "cell_type": "markdown",
      "source": [
        "### Keys and Values\n",
        "\n",
        "We can also extract lists of the keys or values using functions, but these functions are called `methods` and are called in a different way. Python is what is referred to as an _Object Oriented_ programming language, and this syntax is used to access functions are are part of an object's behavior. Don't worry if that doesn't make sense - it is an advanced topic that confuses a lot of computer science students as well. If we have time at the end of the course we can discuss what it means, and look at some Python libraries like PyGame that are built using it.\n",
        "\n",
        "In the meantime, here is how to get a list of keys from the dictionary. I'll leave it as an exercise to get the list of values:"
      ],
      "metadata": {
        "id": "IqsTtfO6pJcx"
      }
    },
    {
      "cell_type": "code",
      "source": [
        "print(my_dictionary.keys())"
      ],
      "metadata": {
        "id": "LagxJwBCo-wS"
      },
      "execution_count": null,
      "outputs": []
    },
    {
      "cell_type": "markdown",
      "source": [
        "As with lists and tuples, there is no limit on the type of values that a dictionary may store, nor do they all need to be the same. However, there are some limits on the types you can use for the keys. \n",
        "\n",
        "First one is each key can only appear once in the dictionary. There cannot be two, or more, values for the same key. \n",
        "\n",
        "Secondly, while keys must be an _immutable_ type - that means it cannot be changed. OK, so what does that mean? Well, we've seen strings as keys, but we can also use numbers and even booleans or tuples. But, not lists or other dictionaries (because they are both mutable - they can be changed). \n",
        "\n",
        "As with the values, there is no restriction on the keys in your dictionary all having the same type.\n",
        "\n",
        "Try creating a dictionary with different types for the keys and/or values it holds."
      ],
      "metadata": {
        "id": "fXkkMoH2qyHz"
      }
    },
    {
      "cell_type": "code",
      "source": [
        "my_dictionary = { }\n",
        "print(my_dictionary)"
      ],
      "metadata": {
        "id": "BQeoFOCSpRgf"
      },
      "execution_count": null,
      "outputs": []
    },
    {
      "cell_type": "markdown",
      "source": [
        "## Sets\n",
        "\n",
        "The final data struture we will look at today is called a **set**. A set is an unordered collection of unique items. What does that mean?\n",
        "\n",
        "With lists and tuples, we saw that the items were printed out in the same order we added them, and we could even access them using an integer index. With sets, that is not the case.\n",
        "\n",
        "Additionally, a set can only contain one instance of any value. If you add the same value to a set multiple times, it will still only be printed out once.\n",
        "\n",
        "To create one, we convert a tuple (or list) into the set using the `set()` function like this:"
      ],
      "metadata": {
        "id": "Cd7GFeYztTGg"
      }
    },
    {
      "cell_type": "code",
      "source": [
        "# Using a tuple\n",
        "my_set = set((1,2,3,4))\n",
        "print(my_set)\n",
        "\n",
        "# Using a list\n",
        "my_set = set([1,2,3,4])\n",
        "print(my_set)"
      ],
      "metadata": {
        "id": "5VoZVB-5ucAi"
      },
      "execution_count": null,
      "outputs": []
    },
    {
      "cell_type": "markdown",
      "source": [
        "In that case, the order looks like it was retained. Try changing the order of the numbers in either the tuple or list and see whether the printed set matches it.\n",
        "\n",
        "Next, try adding duplicates in the tuple:"
      ],
      "metadata": {
        "id": "LJ8CnyzsuwOD"
      }
    },
    {
      "cell_type": "code",
      "source": [
        "my_set = set((1,1,2,2,3,3,4,4))\n",
        "print(my_set)"
      ],
      "metadata": {
        "id": "NoHcFcc9u_Z8"
      },
      "execution_count": null,
      "outputs": []
    },
    {
      "cell_type": "markdown",
      "source": [
        "### Length\n",
        "\n",
        "As you might expect, you can get the number of items in a set using the `len()` function. Try it below."
      ],
      "metadata": {
        "id": "8DrJnijivRW5"
      }
    },
    {
      "cell_type": "code",
      "source": [],
      "metadata": {
        "id": "3QkJk7edvOyA"
      },
      "execution_count": null,
      "outputs": []
    },
    {
      "cell_type": "markdown",
      "source": [
        "### Adding and Removing Items\n",
        "\n",
        "There are some special functions for sets that allow you to add items to the set or remove items from it.\n",
        "\n",
        "The `.add()` method adds an item (the set will be unchanged if the item already exists), and `.remove()` removes one (again, if the item is not there, nothing will change).\n",
        "\n",
        "Try adding and removing items from the set below:"
      ],
      "metadata": {
        "id": "XPTVQIB3vZUi"
      }
    },
    {
      "cell_type": "code",
      "source": [
        "my_set = set([1,2,3,4,5,6,7,8,9,10])\n",
        "print(my_set)\n",
        "\n",
        "# Add an new item to the set\n",
        "# Hint: notice the . at the start of the method name; that means it works like\n",
        "# the .keys() and .values() methods we saw above in dictionaries\n",
        "\n",
        "print(my_set)\n",
        "\n",
        "# Add an item that is already in the set\n",
        "\n",
        "print(my_set)\n",
        "\n",
        "# Remove an item from the set\n",
        "\n",
        "print(my_set)"
      ],
      "metadata": {
        "id": "85dSqs5XwXt0"
      },
      "execution_count": null,
      "outputs": []
    },
    {
      "cell_type": "markdown",
      "source": [
        "As with lists, tuples and dictionaries, sets in Python can hold values of different types. Try experimenting with sets containing strings, or even mixed types."
      ],
      "metadata": {
        "id": "0TwIqJtBxRxa"
      }
    },
    {
      "cell_type": "code",
      "source": [
        "# Hint: Start with a tuple or list containing different types"
      ],
      "metadata": {
        "id": "9nXR8d-1xeD8"
      },
      "execution_count": null,
      "outputs": []
    },
    {
      "cell_type": "markdown",
      "source": [
        "Sets have a lot more operations that can be applied to them, matching those that can be found in the mathematics of sets. That is beyond the scope of this course, but remember when you encounter sets in math, everything you learn there can be done with Python sets too. "
      ],
      "metadata": {
        "id": "V2awx7QGxADZ"
      }
    },
    {
      "cell_type": "markdown",
      "source": [
        "# Next\n",
        "\n",
        "[Section 3](https://colab.research.google.com/github/john94501/aoa-python/blob/main/Section_03.ipynb)"
      ],
      "metadata": {
        "id": "muW3m3lOynSJ"
      }
    },
    {
      "cell_type": "code",
      "source": [],
      "metadata": {
        "id": "o7iBdQNIsfMf"
      },
      "execution_count": null,
      "outputs": []
    }
  ]
}