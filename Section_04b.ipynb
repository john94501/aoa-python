{
  "nbformat": 4,
  "nbformat_minor": 0,
  "metadata": {
    "colab": {
      "provenance": [],
      "authorship_tag": "ABX9TyMdGJxaoMvTSAmnkTILFvYX",
      "include_colab_link": true
    },
    "kernelspec": {
      "name": "python3",
      "display_name": "Python 3"
    },
    "language_info": {
      "name": "python"
    },
    "gpuClass": "standard"
  },
  "cells": [
    {
      "cell_type": "markdown",
      "metadata": {
        "id": "view-in-github",
        "colab_type": "text"
      },
      "source": [
        "<a href=\"https://colab.research.google.com/github/john94501/aoa-python/blob/main/Section_4a.ipynb\" target=\"_parent\"><img src=\"https://colab.research.google.com/assets/colab-badge.svg\" alt=\"Open In Colab\"/></a>"
      ]
    },
    {
      "cell_type": "markdown",
      "source": [
        "# Academy of Alameda Python 4a\n",
        "\n",
        "## Ciphers\n",
        "\n",
        "Modern cryptography, the art of encrypting and decrypting messages, data etc, is well beyond the scope of this course, suffice to say modern computers are capable of things that the code breakers from WWII could not even imagine.\n",
        "\n",
        "Code breaking, however, is something we can explore, using simpler ciphers than even the Enigma machine. Some of these ciphers go back several thousand years.\n",
        "\n",
        "### The Ceasar Cipher\n",
        "\n",
        "One of the simplest ciphers to understand was used by Julius Caesar, the Roman Emperor, to encrypt messages sent to his army. It was almost certainly used well before that time, but his use of it made it famous, and so it is named after him.\n",
        "\n",
        "The Caesar Cipher is a substitution cipher. It has been widely used for masking text, even relatively recently. Some of the early Internet applications (before the World Wide Web was event thought of) used a variation of it called ROT-13.\n",
        "\n",
        "The idea is simple. Each letter of the alphabet is replaced by one a number of letters later. That number is called the shift. Caesar, apparently, used a shift of 3, so A became D, B became E, C became F and so on. The last three letters wrap around, so X becomes A, Y becomes B and Z becomes C.\n",
        "\n",
        "Let's write a Python function to encrypt a string using a given shift value:"
      ],
      "metadata": {
        "id": "DsICKDHYPpxY"
      }
    },
    {
      "cell_type": "markdown",
      "source": [
        "Before we start, we will need to know a few more things:\n",
        "\n",
        "### Character Encoding\n",
        "\n",
        "In the world of computers, the characters you type are all encoded as numbers. The common ones are encoded by integers in the range 32 to 126. That includes the upper case letters (A to Z), the lower case letters (a to z), the numeric digits (0 - 9), and all the punctuation and symbols on the keyboard.\n",
        "\n",
        "There are two functions in Python that let us switch between the numeric encoding (that can use arithmetic operators on) and the characters themselves (that we can build into strings):\n",
        "\n",
        "`ord()` turns a character from a string into a number\n",
        "\n",
        "`chr()` turns one of those numbers back to a character\n",
        "\n",
        "The good news is, that while 'A' is not 1, the letters A to Z are encoded in order, so we can still use simple addition to apply the shift value.\n",
        "\n",
        "### Accessing Characters In a String\n",
        "\n",
        "If you recall, strings can be sliced using the `[]` notation. They can also be iterated over using for / in - try it:"
      ],
      "metadata": {
        "id": "TBiIbG1_W5eX"
      }
    },
    {
      "cell_type": "code",
      "source": [
        "for letter in \"Here is a string\":\n",
        "  print(letter)"
      ],
      "metadata": {
        "id": "JODbGK6yYjgm"
      },
      "execution_count": null,
      "outputs": []
    },
    {
      "cell_type": "markdown",
      "source": [
        "### Comparing Characters\n",
        "\n",
        "We can also compare one character to another, so we can see, for example, whether our shifted letter is after 'Z' and needs to be wrapped back to the start of the alphabet like this - try it out with different letters in the first line:"
      ],
      "metadata": {
        "id": "lA8ZDMUtYts6"
      }
    },
    {
      "cell_type": "code",
      "source": [
        "letter=ord('X') + 3\n",
        "if chr(letter) > 'Z':\n",
        "  letter = letter - 26   # Back to the start of the alphabet\n",
        "print(chr(letter))"
      ],
      "metadata": {
        "id": "cevIYv54ZC7S"
      },
      "execution_count": null,
      "outputs": []
    },
    {
      "cell_type": "markdown",
      "source": [
        "### Putting it all Together\n",
        "\n",
        "Now write a Python function to encrypt some text, and try it with the block below once you think you have it working. I've added some comments as hints."
      ],
      "metadata": {
        "id": "mWY9faC_ZefR"
      }
    },
    {
      "cell_type": "code",
      "execution_count": null,
      "metadata": {
        "id": "k6iGib6HPoWq"
      },
      "outputs": [],
      "source": [
        "\n",
        "# Casear Cipher Encrypt\n",
        "\n",
        "def caesar_encrypt(plaintext, shift):\n",
        "\n",
        "  # Always a good idea to validate our input\n",
        "  # Check the shift is not less than 0 or greater than 25\n",
        "  # If it is, print a message and return None\n",
        "\n",
        "  # Create an empty string to build the result in\n",
        "  encrypted = \"\"\n",
        "\n",
        "  # Only work in upper case: convert the plain text to upper case.\n",
        "  # Hint: the .upper() function converts a string to upper case\n",
        "\n",
        "  # Loop through each character in plaintext\n",
        "\n",
        "    # If this character is not A-Z, just leave it untouched\n",
        "\n",
        "    # Otherwise:\n",
        "\n",
        "      # Convert the character to a number & add the shift\n",
        "\n",
        "      # If the new character is after 'Z', subtract 26\n",
        "\n",
        "      # Append to 'encrypted'\n",
        "\n",
        "  return encrypted"
      ]
    },
    {
      "cell_type": "code",
      "source": [
        "encrypted = caesar_encrypt(\"ABCDEFGHIJKLMNOPQRSTUVWXYZ\", 3)\n",
        "print(encrypted)"
      ],
      "metadata": {
        "id": "JV__4t7DR42S"
      },
      "execution_count": null,
      "outputs": []
    },
    {
      "cell_type": "markdown",
      "source": [
        "## Challenges\n",
        "\n",
        "1. See if you can create something that can decrypt this cipher. \n",
        "\n",
        "2. Can you see why ROT-13 was a popular variant of this cipher? (Hint: what is special about a shift of 13)"
      ],
      "metadata": {
        "id": "Onhgvu_RMBp1"
      }
    },
    {
      "cell_type": "code",
      "source": [
        "# Caesar Cipher Decrypt"
      ],
      "metadata": {
        "id": "ezohj52NUL5F"
      },
      "execution_count": null,
      "outputs": []
    },
    {
      "cell_type": "markdown",
      "source": [
        "## Substitution Ciphers\n",
        "\n",
        "The Caesar cipher is a special variant of a more generic group of ciphers known as substitution ciphers. In a substitution cipher, as you may have guessed, one letter of the plaintext alphabet is substituted for another letter. In the Caesar cipher, the substitutions were made by just shifting the alphabet, but more complex ones can be made using random substitutions.\n",
        "\n",
        "For example,\n",
        "\n",
        "```\n",
        "Plaintext:  ABCDEFGHIJKLMNOPQRSTUVWXYZ\n",
        "Substitute: QWERTYUIOPASDFGHJKLZXCVBNM\n",
        "```\n",
        "\n",
        "See if you can write a function that will encrypt a message using this substitution."
      ],
      "metadata": {
        "id": "aubRoouJMa8j"
      }
    },
    {
      "cell_type": "code",
      "source": [
        "# Substitution Cipher Encrypt\n",
        "\n",
        "def substitution_encrypt(plaintext):\n",
        "\n",
        "  subs=\"QWERTYUIOPASDFGHJKLZXCVBNM\"\n",
        "\n",
        "  # Create an empty string to build the result in\n",
        "  encrypted = \"\"\n",
        "\n",
        "  # Only work in upper case: convert the plain text to upper case.\n",
        "\n",
        "  # Loop through each character in plaintext\n",
        "\n",
        "    # If this character is not A-Z, just leave it untouched\n",
        "\n",
        "    # Otherwise:\n",
        "\n",
        "      # Convert the character to an index into the substitution string\n",
        "      # Hint: you can subtract ord('A') to get back to 0 to 25\n",
        "\n",
        "      # Check it is in bounds (just in case)\n",
        "\n",
        "\n",
        "  return encrypted"
      ],
      "metadata": {
        "id": "fubPdK6MNkP2"
      },
      "execution_count": null,
      "outputs": []
    },
    {
      "cell_type": "markdown",
      "source": [
        "Test it here:"
      ],
      "metadata": {
        "id": "KrHrkSdUOnTs"
      }
    },
    {
      "cell_type": "code",
      "source": [
        "print(substitution_encrypt(\"ABCDEFGHIJKLMNOPQRSTUVWXYZ\"))\n",
        "print(substitution_encrypt(\"The quick brown fox jumped over the lazy dog.\"))\n"
      ],
      "metadata": {
        "id": "mu3NLAWgOpQf"
      },
      "execution_count": null,
      "outputs": []
    },
    {
      "cell_type": "markdown",
      "source": [
        "### Challenge\n",
        "\n",
        "Create a function that can decrypt these messages.\n"
      ],
      "metadata": {
        "id": "099oJf2nPr7b"
      }
    },
    {
      "cell_type": "code",
      "source": [
        "# Substitution Cipher Decrypt\n",
        "\n",
        "def substitution_decrypt(encrypted):\n",
        "\n",
        "  subs=\"QWERTYUIOPASDFGHJKLZXCVBNM\"\n",
        "\n",
        "  # Build a reverse substitution string\n",
        "  # Hint: Need to use a list here as we can't assign\n",
        "  #       to individual characters in a string\n",
        "  reverse = [\" \"] * 26\n",
        "    \n",
        "  # Create an empty string to build the result in\n",
        "\n",
        "  # Only work in upper case: convert the plain text to upper case.\n",
        "\n",
        "  # Loop through each character in encrypted string\n",
        "\n",
        "    # If this character is not A-Z, just leave it untouched\n",
        "\n",
        "    # Otherwise:\n",
        "\n",
        "      # Convert the character to an index into the substitution string\n",
        "\n",
        "      # Check it is in bounds (just in case)\n",
        "\n",
        "  return plaintext"
      ],
      "metadata": {
        "id": "0-X8hQVpP0Gd"
      },
      "execution_count": null,
      "outputs": []
    },
    {
      "cell_type": "markdown",
      "source": [
        "## Deciphering\n",
        "\n",
        "Creating our own ciphers and deciphering them is not too complex, but suppose you didn't know the shift number, or the substitutions, or even what technique was used to encrypt the messages you were listening to on the radio? That was the challenge that faced the code-breakers in Bletchley Hall back in the second world war. They designed & built their computers to help decipher messages they did not have the key to.\n",
        "\n",
        "### Breaking Simple Ciphers\n",
        "\n",
        "If you know the language the text is written in, and you suspect a substitution cipher, then you can use some properties of the language to make some educated guesses about some of the letters. In English, we know the most common letters are E, T, A, I, O, N, S, H, and R.\n",
        "\n",
        "But we can go further than that and look at the most commonly found letters at the start and ends of words. At the beginning of words, the most common letters are T, A, O, D, and W. And the most common endings are E, S, D, and T.\n",
        "\n",
        "Here's a block of encrypted text. Let's see if we can break the cipher using this information:\n",
        "\n",
        "> ZNSQJCGE BMN BKG ZCYDSNU QGW WSZCYDSNCGE JDST CU GBJ JBB ZBTYVSO, AMJ UMYYBUS LBM WCWG'J FGBK JDS UDCXJ GMTASN, BN JDS UMAUJCJMJCBGU, BN SISG KDQJ JSZDGCHMS KQU MUSW JB SGZNLYJ JDS TSUUQESU LBM KSNS VCUJSGCGE JB BG JDS NQWCB? JDQJ KQU JDS ZDQVVSGES JDQJ XQZSW JDS ZBWS-ANSQFSNU CG AVSJZDVSL DQVV AQZF CG JDS USZBGW KBNVW KQN. JDSL WSUCEGSW & AMCVJ JDSCN ZBTYMJSNU JB DSVY WSZCYDSN TSUUQESU JDSL WCW GBJ DQIS JDS FSL JB.\n",
        "\n",
        "In addition to the clues in the letter frequency, can you see any other things in that block of text that might help you guess letters?"
      ],
      "metadata": {
        "id": "DOUqcZHvPjvB"
      }
    },
    {
      "cell_type": "code",
      "source": [
        "encrypted=\"ZNSQJCGE BMN BKG ZCYDSNU QGW WSZCYDSNCGE JDST CU GBJ JBB ZBTYVSO, AMJ UMYYBUS LBM WCWG'J FGBK JDS UDCXJ GMTASN, BN JDS UMAUJCJMJCBGU, BN SISG KDQJ JSZDGCHMS KQU MUSW JB SGZNLYJ JDS TSUUQESU LBM KSNS VCUJSGCGE JB BG JDS NQWCB? JDQJ KQU JDS ZDQVVSGES JDQJ XQZSW JDS ZBWS-ANSQFSNU CG AVSJZDVSL DQVV AQZF CG JDS USZBGW KBNVW KQN. JDSL WSUCEGSW & AMCVJ JDSCN ZBTYMJSNU JB DSVY WSZCYDSN TSUUQESU JDSL WCW GBJ DQIS JDS FSL JB.\""
      ],
      "metadata": {
        "id": "3P07ohKkO3Ep"
      },
      "execution_count": null,
      "outputs": []
    },
    {
      "cell_type": "markdown",
      "source": [
        "### First Task: Letter frequency\n",
        "\n",
        "First thing we're going to do with that block of text is calculate the letter frequencies. We can do that very easily with Python and just print the numbers for each frequency, but, since we are using Colab, we have access to some chart plotting tools as well, so we can display the output graphically as well."
      ],
      "metadata": {
        "id": "Ur6mk9tlnWnd"
      }
    },
    {
      "cell_type": "code",
      "source": [
        "# Create a dictionary of letter frequencies\n",
        "\n",
        "def letter_frequencies(text):\n",
        "  # Create a dictionary to hold the frequencies of the letters; we're not going\n",
        "  # to count non-letter characters, so we only need 26 entries here - one\n",
        "  # for each letter of the English alphabet. Initialize them all to 0.\n",
        "  frequencies = { }\n",
        "\n",
        "  for l in range(26):\n",
        "    frequencies[chr(l + ord('A'))] = 0\n",
        "\n",
        "  for l in text:\n",
        "    if l >= 'A' and l <= 'Z':\n",
        "      frequencies[l] += 1\n",
        "\n",
        "  return frequencies"
      ],
      "metadata": {
        "id": "wAE1YeJHXwZp"
      },
      "execution_count": null,
      "outputs": []
    },
    {
      "cell_type": "code",
      "source": [
        "freq = letter_frequencies(encrypted)\n",
        "print(freq)"
      ],
      "metadata": {
        "id": "VboorDz-oYEv"
      },
      "execution_count": null,
      "outputs": []
    },
    {
      "cell_type": "code",
      "source": [
        "# Let's plot that as a bar chart\n",
        "import matplotlib.pyplot as plt\n",
        "\n",
        "plt.bar(freq.keys(), freq.values())\n",
        "plt.title(\"Frequencies\")\n",
        "plt.show()\n"
      ],
      "metadata": {
        "id": "V8uGn38KoeNu"
      },
      "execution_count": null,
      "outputs": []
    },
    {
      "cell_type": "markdown",
      "source": [
        "### Second Task: Starting and Ending Letter Frequencies\n",
        "\n",
        "We can use the same approach, but we need to be more careful about the non-letter characters. Punctuation is the same as the end of the word, but characters like hyphens and apostrophes can occur mid-word.\n",
        "\n",
        "Using the example above, create two more functions - one that returns a dictionary of starting letters and one for ending letters."
      ],
      "metadata": {
        "id": "632GijnNs7k1"
      }
    },
    {
      "cell_type": "code",
      "source": [
        "# Create a dictionary of first letter frequencies\n",
        "\n",
        "def first_letter_frequencies(text):\n",
        "  # Create a dictionary to hold the frequencies of the letters; we're not going\n",
        "  # to count non-letter characters, so we only need 26 entries here - one\n",
        "  # for each letter of the English alphabet. Initialize them all to 0.\n",
        "  frequencies = { }\n",
        "\n",
        "  for l in range(26):\n",
        "    frequencies[chr(l + ord('A'))] = 0\n",
        "\n",
        "  # Use a boolean here to track whether we are in a word or not in a word\n",
        "  # We will set this true when we first find a letter, and false again when\n",
        "  # we find a non-letter character that is punctuation or a space.\n",
        "  inword = False\n",
        "\n",
        "  # Now loop through all the letters in the text again and count the ones at\n",
        "  # the starts of words.\n",
        "  for l in text:\n",
        "    if inword:\n",
        "      # Check if this character marks the end of a word\n",
        "      if l in (' ', '.', ',', '?', '!'):\n",
        "        inword = False\n",
        "    elif l >= 'A' and l <= 'Z':\n",
        "      frequencies[l] += 1\n",
        "      inword = True\n",
        "\n",
        "  return frequencies"
      ],
      "metadata": {
        "id": "UwiH6XXmrDrD"
      },
      "execution_count": null,
      "outputs": []
    },
    {
      "cell_type": "code",
      "source": [
        "first = first_letter_frequencies(encrypted)\n",
        "print(first)\n",
        "\n",
        "# Let's plot that as a bar chart (we don't need the import again - we did that above)\n",
        "\n",
        "plt.bar(first.keys(), first.values())\n",
        "plt.title(\"Frequencies\")\n",
        "plt.show()\n"
      ],
      "metadata": {
        "id": "S3YBnRRkxpX7"
      },
      "execution_count": null,
      "outputs": []
    },
    {
      "cell_type": "code",
      "source": [
        "# Create a dictionary of last letter frequencies\n",
        "\n",
        "def last_letter_frequencies(text):\n",
        "  # Create a dictionary to hold the frequencies of the letters; we're not going\n",
        "  # to count non-letter characters, so we only need 26 entries here - one\n",
        "  # for each letter of the English alphabet. Initialize them all to 0.\n",
        "  frequencies = { }\n",
        "\n",
        "  # Need a boolean to track whether we are in a word or not\n",
        "\n",
        "  # Need a way to track the last letter we saw too\n",
        "\n",
        "  # Now loop through the text one character at a time again\n",
        "\n",
        "    # If we're in a word:\n",
        "\n",
        "      # If the current character is a word ending character\n",
        "\n",
        "        # Increment the count for the last letter we saw\n",
        "\n",
        "        # Indicate no longer in a word\n",
        "\n",
        "    # Otherwise, if this ia a letter\n",
        "\n",
        "       # Mark us as being in a word\n",
        "\n",
        "    # If it is a letter, remember the current character as the last one we saw\n",
        "\n",
        "  return frequencies\n"
      ],
      "metadata": {
        "id": "QcPvuMHYxu2T"
      },
      "execution_count": null,
      "outputs": []
    },
    {
      "cell_type": "code",
      "source": [
        "last = last_letter_frequencies(encrypted)\n",
        "print(last)\n",
        "\n",
        "# Let's plot that as a bar chart (we don't need the import again - we did that above)\n",
        "\n",
        "plt.bar(last.keys(), last.values())\n",
        "plt.title(\"Frequencies\")\n",
        "plt.show()\n"
      ],
      "metadata": {
        "id": "mEgaKiPGzPvO"
      },
      "execution_count": null,
      "outputs": []
    },
    {
      "cell_type": "markdown",
      "source": [
        "### Making Guesses\n",
        "\n",
        "Now we have some clues, we can start to build something we can use to make guesses and help us find the key to decrypting our message.\n",
        "\n"
      ],
      "metadata": {
        "id": "Q138Edt7zVuB"
      }
    },
    {
      "cell_type": "code",
      "source": [
        "# Decryption Helper - replace the '-' next to the letter from the \n",
        "# encrypted message with what you think the plaintext letter might be. We\n",
        "# user lower case for the substitution so they don't get replaced again.\n",
        "\n",
        "mappings = {\n",
        "    'A': '-',\n",
        "    'B': '-',\n",
        "    'C': '-',\n",
        "    'D': '-',\n",
        "    'E': '-',\n",
        "    'F': '-',\n",
        "    'G': '-',\n",
        "    'H': '-',\n",
        "    'I': '-',\n",
        "    'J': 't',\n",
        "    'K': '-',\n",
        "    'L': '-',\n",
        "    'M': '-',\n",
        "    'N': '-',\n",
        "    'O': '-',\n",
        "    'P': '-',\n",
        "    'Q': '-',\n",
        "    'R': '-',\n",
        "    'S': 'e',\n",
        "    'T': '-',\n",
        "    'U': '-',\n",
        "    'V': '-',\n",
        "    'W': '-',\n",
        "    'X': '-',\n",
        "    'Y': '-',\n",
        "    'Z': '-',    # Python doesn't mind the last element having a trailing comma\n",
        "  }\n",
        "\n",
        "plaintext = encrypted\n",
        "for k, v in mappings.items():\n",
        "  plaintext = plaintext.replace(k, v)\n",
        "\n",
        "print(encrypted)\n",
        "# Convert back to upper case here\n",
        "print(plaintext.upper())"
      ],
      "metadata": {
        "id": "biqVeMjKzsl-"
      },
      "execution_count": null,
      "outputs": []
    },
    {
      "cell_type": "markdown",
      "source": [
        "### Automating Deciphering\n",
        "\n",
        "Let's suppose we know (or suspect) a substitution cipher of some kind. We can make use of a dictionary and some smart logic to have the computer work out what it thinks is the best match.\n",
        "\n",
        "The way we're going to approach this is as follows:\n",
        "\n",
        "1. Pick the longest word in the encrypted text for which we don't have a completely decrypted word.\n",
        "\n",
        "2. Using pattern matching, try to find a list of all possible words that could match it.\n",
        "\n",
        "3. For each of those candidate words, add the mappings, decipher again, and evaluate how good that mapping is (by looking at whether the other words are real, or gibberish).\n",
        "\n",
        "4. Repeat until there are no more words left with missing characters\n",
        "\n",
        "Before we try it, do you think:\n",
        "\n",
        "a) It will work\n",
        "\n",
        "b) It will get most letters right, but could leave some incorrect\n",
        "\n",
        "c) It will be a disaster and just print nonsense\n",
        "\n",
        "Let's build it step by step:"
      ],
      "metadata": {
        "id": "v_xdo8RUD3R4"
      }
    },
    {
      "cell_type": "markdown",
      "source": [
        "#### Load a Dictionary of Common English Words\n",
        "\n",
        "We need a dictionary that includes plurals, but we want to drop anything with punctuation, or spaces to keep it simple"
      ],
      "metadata": {
        "id": "7zZZRYfZH-5q"
      }
    },
    {
      "cell_type": "code",
      "source": [
        "# This copies a file from my respository, into the files area here in colab\n",
        "!npx degit john94501/aoa-python/files -f\n"
      ],
      "metadata": {
        "id": "JBE91L7C9Oe-"
      },
      "execution_count": null,
      "outputs": []
    },
    {
      "cell_type": "code",
      "source": [
        "# Going to need regular expressions - which are a tool to help match strings\n",
        "# against patterns. Too complex to explain in detail here (they are often cited\n",
        "# as one of the things that Computer Science students hate in their first year\n",
        "# university courses!). We're only going to use simple patterns, and I will\n",
        "# try to explain what they mean as we write them. But here we're just telling\n",
        "# Python that we will be using them later.\n",
        "import re"
      ],
      "metadata": {
        "id": "4u3WcQOpEbJX"
      },
      "execution_count": null,
      "outputs": []
    },
    {
      "cell_type": "code",
      "source": [
        "# Load the words from the words.txt file\n",
        "\n",
        "# We're going to use a set here since we want unique words\n",
        "WORDS=set()\n",
        "# We're going to track how many we drop, just for interest\n",
        "dropped = 0\n",
        "with open(\"words.txt\", \"r\") as fd:    # Open the words list\n",
        "  for line in fd:\n",
        "    # Words are one per line; strip any extra whitespace, and convert\n",
        "    # to upper case, then store in our set\n",
        "    word = line.strip().upper()\n",
        "    # This pattern means match any non-uppercase, non-alphabet character\n",
        "    # If there are only A-Z letters in the word, we will add it to our list\n",
        "    if re.search(\"[^A-Z]\", word) is None:\n",
        "      WORDS.add(word)\n",
        "    else:\n",
        "      dropped += 1\n",
        "\n",
        "print(\"We have loaded {} unique words (skipped {})\".format(len(WORDS), dropped))"
      ],
      "metadata": {
        "id": "irD0Aro8FDBc"
      },
      "execution_count": null,
      "outputs": []
    },
    {
      "cell_type": "markdown",
      "source": [
        "Create a version of the encrypted string without the punctuation to work on,but keep the spaces as we want to work with words."
      ],
      "metadata": {
        "id": "QtGhA5FWI-8y"
      }
    },
    {
      "cell_type": "code",
      "source": [
        "cleaned = \"\"\n",
        "for l in encrypted:\n",
        "  if l >= 'A' and l <= 'Z' or l == \" \":\n",
        "    cleaned += l\n",
        "print(cleaned)"
      ],
      "metadata": {
        "id": "xZ9fPT0HFeaZ"
      },
      "execution_count": null,
      "outputs": []
    },
    {
      "cell_type": "markdown",
      "source": [
        "Next, we need a couple of helper functions. One to add some new mappings to the list we were playing with above, and another to evaluate how good that mapping is.\n",
        "\n",
        "The evaluate function is going to try deciphering the text using the mapping\n",
        "we pass it, and return a score for how good it thinks that mapping is. This is the heart of the algorithm, and the place we can adjust if we find it doesn't work well enough.\n",
        "\n",
        "We have some new functions here too:\n",
        "\n",
        "The `split()` function takes a string and splits it into words, returning the result as a list. By default, it uses the space as the separator, but that can be changed if needed (we are happy using the space).\n",
        "\n",
        "The `replace()` function can be used to replace one string with another inside of a longer string. We're using it here to apply our mapping conversions."
      ],
      "metadata": {
        "id": "twPQmAdrG9lS"
      }
    },
    {
      "cell_type": "code",
      "source": [
        "# Given a starting mapping, and both an encrypted word and a candidate decrypted\n",
        "# word, this updates the mappings and returns a new mapping dictionary\n",
        "\n",
        "def apply_mapping(mapping, enc, plain):\n",
        "  for i in range(len(enc)):\n",
        "    mapping[enc[i]] = plain[i]\n",
        "  return mapping\n",
        "\n",
        "\n",
        "# This function returns a score for a mapping. The score is based on looking at\n",
        "# all the words in the decrypted string which do not contain any placeholders\n",
        "# (we're using the \".\" here since it is the character regular expressions use\n",
        "# to match any character).\n",
        "#\n",
        "# The score is incremented for every word that we find in the dictionary, and\n",
        "# decremented for any complete words we do not find.\n",
        "\n",
        "def evaluate(mapping):\n",
        "  global cleaned\n",
        "\n",
        "  plaintext = cleaned\n",
        "  for k, v in mappings.items():\n",
        "    plaintext = plaintext.replace(k, v)\n",
        "\n",
        "  # Back to uppercase\n",
        "  plaintext = plaintext.upper()\n",
        "\n",
        "  # split into words\n",
        "  words = plaintext.split()\n",
        "\n",
        "  score = 0\n",
        "  negative = 0\n",
        "  for word in words:\n",
        "    if \".\" in word:\n",
        "      continue\n",
        "    elif word in WORDS:\n",
        "      score += 1\n",
        "    else:\n",
        "      negative += 1\n",
        "\n",
        "  return score - negative"
      ],
      "metadata": {
        "id": "j4lJ6nVXGpG7"
      },
      "execution_count": null,
      "outputs": []
    },
    {
      "cell_type": "markdown",
      "source": [
        "We need our mappings dictionary again, but this time we will use the '.' instead of the '-' for the unmatched ones (to make the code simpler when we come to the regular expression matching)."
      ],
      "metadata": {
        "id": "49gIatyYJtn2"
      }
    },
    {
      "cell_type": "code",
      "source": [
        "mappings = {\n",
        "    'A': '.',\n",
        "    'B': '.',\n",
        "    'C': '.',\n",
        "    'D': '.',\n",
        "    'E': '.',\n",
        "    'F': '.',\n",
        "    'G': '.',\n",
        "    'H': '.',\n",
        "    'I': '.',\n",
        "    'J': '.',\n",
        "    'K': '.',\n",
        "    'L': '.',\n",
        "    'M': '.',\n",
        "    'N': '.',\n",
        "    'O': '.',\n",
        "    'P': '.',\n",
        "    'Q': '.',\n",
        "    'R': '.',\n",
        "    'S': '.',\n",
        "    'T': '.',\n",
        "    'U': '.',\n",
        "    'V': '.',\n",
        "    'W': '.',\n",
        "    'X': '.',\n",
        "    'Y': '.',\n",
        "    'Z': '.',    # Python doesn't mind the last element having a trailing comma\n",
        "  }"
      ],
      "metadata": {
        "id": "DB0RJWJnJpfC"
      },
      "execution_count": null,
      "outputs": []
    },
    {
      "cell_type": "markdown",
      "source": [
        "Finally, we can pull this all together. I have added some interim output so you can see the words the algorithm chooses as the winning match for each encrypted word it tries.\n",
        "\n",
        "We will see some new functions in here too:\n",
        "\n",
        "The `sorted()` function, as you might guess, sorts the list it is provided. We are using the `key` parameter to specify how the sort happens, and also setting `reverse=True` to reverse the sort order (so we get largest first).\n",
        "\n",
        "One of those `key` methods we're using is a special construct called `lambda` - a lambda is like a function, but written inline in the code. Our one is `lambda x: len(x[0])` which is a short version of this:\n",
        "\n",
        "```\n",
        "def anonymous(x):\n",
        "  return len(x[0])\n",
        "```\n",
        "\n",
        "Although we touched on regular expressions above, let's explain the two functions we're using.\n",
        "\n",
        "The `re.match()` and `re.search()` functions are used to match our regular expression patterns. The `re.match()` one needs the pattern to be found at the start of the string; the `re.search()` one will find it anywhere in the string."
      ],
      "metadata": {
        "id": "HcWAnyx-JeJt"
      }
    },
    {
      "cell_type": "code",
      "source": [
        "# Split the encrypted text into a list of words.\n",
        "enc = cleaned.split()\n",
        "\n",
        "# Decipher using the current mapping\n",
        "plaintext = cleaned\n",
        "for k, v in mappings.items():\n",
        "  plaintext = plaintext.replace(k, v)\n",
        "\n",
        "# Back to uppercase\n",
        "plaintext = plaintext.upper()\n",
        "\n",
        "# split into words\n",
        "words = plaintext.split()\n",
        "\n",
        "# \n",
        "word_index = []\n",
        "for w in range(len(words)):\n",
        "  word_index.append((words[w], w))\n",
        "\n",
        "sw = sorted(word_index, key=lambda x : len(x[0]), reverse=True)\n",
        "for idx in range(len(sw)):\n",
        "  if \".\" in sw[idx][0]:\n",
        "    candidates = []\n",
        "    for w in WORDS:\n",
        "      pattern = \"^%s$\" % sw[idx][0]\n",
        "      if re.match(pattern, w) is not None:\n",
        "        candidates.append(w)\n",
        "\n",
        "    if len(candidates) > 0:\n",
        "      e = enc[sw[idx][1]]\n",
        "      winner = (0, None)\n",
        "      for candidate in candidates:\n",
        "        candidate = candidate.lower()\n",
        "        m = apply_mapping(mappings, e, candidate)\n",
        "        score = evaluate(m)\n",
        "        if score > winner[0]:\n",
        "          winner = (score, candidate)\n",
        "      if winner[1] is not None:\n",
        "        mappings = apply_mapping(mappings, e, winner[1])\n",
        "        print(\"Winner: {} (score {})\".format(winner[1], winner[0]))\n",
        "\n"
      ],
      "metadata": {
        "id": "lVK8ty4MJ6v0"
      },
      "execution_count": null,
      "outputs": []
    },
    {
      "cell_type": "markdown",
      "source": [
        "Finally, let's run decipher the original encrypted text, complete with punctuation, and see how it looks.\n"
      ],
      "metadata": {
        "id": "CWKUALnNMHLR"
      }
    },
    {
      "cell_type": "code",
      "source": [
        "plaintext = encrypted\n",
        "for k, v in mappings.items():\n",
        "  plaintext = plaintext.replace(k, v)\n",
        "\n",
        "# Back to uppercase\n",
        "plaintext = plaintext.upper()\n",
        "print(encrypted)\n",
        "print(plaintext)"
      ],
      "metadata": {
        "id": "rDOHpeWkL-gI"
      },
      "execution_count": null,
      "outputs": []
    }
  ]
}