{
  "nbformat": 4,
  "nbformat_minor": 0,
  "metadata": {
    "colab": {
      "provenance": [],
      "authorship_tag": "ABX9TyPHp9NZNFcChVr0BPfvmKKb",
      "include_colab_link": true
    },
    "kernelspec": {
      "name": "python3",
      "display_name": "Python 3"
    },
    "language_info": {
      "name": "python"
    },
    "gpuClass": "standard"
  },
  "cells": [
    {
      "cell_type": "markdown",
      "metadata": {
        "id": "view-in-github",
        "colab_type": "text"
      },
      "source": [
        "<a href=\"https://colab.research.google.com/github/john94501/aoa-python/blob/main/Section_4a.ipynb\" target=\"_parent\"><img src=\"https://colab.research.google.com/assets/colab-badge.svg\" alt=\"Open In Colab\"/></a>"
      ]
    },
    {
      "cell_type": "markdown",
      "source": [
        "# Academy of Alameda Python 4a\n",
        "\n",
        "## Ciphers\n",
        "\n",
        "Modern cryptography, the art of encrypting and decrypting messages, data etc, is well beyond the scope of this course, suffice to say modern computers are capable of things that the code breakers from WWII could not even imagine.\n",
        "\n",
        "Code breaking, however, is something we can explore, using simpler ciphers than even the Enigma machine. Some of these ciphers go back several thousand years.\n",
        "\n",
        "### The Ceasar Cipher\n",
        "\n",
        "One of the simplest ciphers to understand was used by Julius Caesar, the Roman Emperor, to encrypt messages sent to his army. It was almost certainly used well before that time, but his use of it made it famous, and so it is named after him.\n",
        "\n",
        "The Caesar Cipher is a substitution cipher. It has been widely used for masking text, even relatively recently. Some of the early Internet applications (before the World Wide Web was event thought of) used a variation of it called ROT-13.\n",
        "\n",
        "The idea is simple. Each letter of the alphabet is replaced by one a number of letters later. That number is called the shift. Caesar, apparently, used a shift of 3, so A became D, B became E, C became F and so on. The last three letters wrap around, so X becomes A, Y becomes B and Z becomes C.\n",
        "\n",
        "Let's write a Python function to encrypt a string using a given shift value:"
      ],
      "metadata": {
        "id": "DsICKDHYPpxY"
      }
    },
    {
      "cell_type": "markdown",
      "source": [
        "Before we start, we will need to know a few more things:\n",
        "\n",
        "### Character Encoding\n",
        "\n",
        "In the world of computers, the characters you type are all encoded as numbers. The common ones are encoded by integers in the range 32 to 126. That includes the upper case letters (A to Z), the lower case letters (a to z), the numeric digits (0 - 9), and all the punctuation and symbols on the keyboard.\n",
        "\n",
        "There are two functions in Python that let us switch between the numeric encoding (that can use arithmetic operators on) and the characters themselves (that we can build into strings):\n",
        "\n",
        "`ord()` turns a character from a string into a number\n",
        "\n",
        "`chr()` turns one of those numbers back to a character\n",
        "\n",
        "The good news is, that while 'A' is not 1, the letters A to Z are encoded in order, so we can still use simple addition to apply the shift value.\n",
        "\n",
        "### Accessing Characters In a String\n",
        "\n",
        "If you recall, strings can be sliced using the `[]` notation. They can also be iterated over using for / in - try it:"
      ],
      "metadata": {
        "id": "TBiIbG1_W5eX"
      }
    },
    {
      "cell_type": "code",
      "source": [
        "for letter in \"Here is a string\":\n",
        "  print(letter)"
      ],
      "metadata": {
        "id": "JODbGK6yYjgm"
      },
      "execution_count": null,
      "outputs": []
    },
    {
      "cell_type": "markdown",
      "source": [
        "### Comparing Characters\n",
        "\n",
        "We can also compare one character to another, so we can see, for example, whether our shifted letter is after 'Z' and needs to be wrapped back to the start of the alphabet like this - try it out with different letters in the first line:"
      ],
      "metadata": {
        "id": "lA8ZDMUtYts6"
      }
    },
    {
      "cell_type": "code",
      "source": [
        "letter=ord('X') + 3\n",
        "if chr(letter) > 'Z':\n",
        "  letter = letter - 26   # Back to the start of the alphabet\n",
        "print(chr(letter))"
      ],
      "metadata": {
        "colab": {
          "base_uri": "https://localhost:8080/"
        },
        "id": "cevIYv54ZC7S",
        "outputId": "3a055117-29a0-4abf-f416-86b6067e0c76"
      },
      "execution_count": null,
      "outputs": [
        {
          "output_type": "stream",
          "name": "stdout",
          "text": [
            "A\n"
          ]
        }
      ]
    },
    {
      "cell_type": "markdown",
      "source": [
        "### Putting it all Together\n",
        "\n",
        "Now write a Python function to encrypt some text, and try it with the block below once you think you have it working. I've added some comments as hints."
      ],
      "metadata": {
        "id": "mWY9faC_ZefR"
      }
    },
    {
      "cell_type": "code",
      "execution_count": null,
      "metadata": {
        "id": "k6iGib6HPoWq"
      },
      "outputs": [],
      "source": [
        "\n",
        "# Casear Cipher Encrypt\n",
        "\n",
        "def caesar_encrypt(plaintext, shift):\n",
        "\n",
        "  # Always a good idea to validate our input\n",
        "  # Check the shift is not less than 0 or greater than 25\n",
        "  # If it is, print a message and return None\n",
        "\n",
        "  # Create an empty string to build the result in\n",
        "  encrypted = \"\"\n",
        "\n",
        "  # Only work in upper case: convert the plain text to upper case.\n",
        "  # Hint: the .upper() function converts a string to upper case\n",
        "\n",
        "  # Loop through each character in plaintext\n",
        "\n",
        "    # If this character is not A-Z, just leave it untouched\n",
        "\n",
        "    # Otherwise:\n",
        "\n",
        "      # Convert the character to a number & add the shift\n",
        "\n",
        "      # If the new character is after 'Z', subtract 26\n",
        "\n",
        "      # Append to 'encrypted'\n",
        "\n",
        "  return encrypted"
      ]
    },
    {
      "cell_type": "code",
      "source": [
        "encrypted = caesar_encrypt(\"ABCDEFGHIJKLMNOPQRSTUVWXYZ\", 3)\n",
        "print(encrypted)"
      ],
      "metadata": {
        "colab": {
          "base_uri": "https://localhost:8080/"
        },
        "id": "JV__4t7DR42S",
        "outputId": "5c2c623a-d959-4264-e542-297163685520"
      },
      "execution_count": null,
      "outputs": [
        {
          "output_type": "stream",
          "name": "stdout",
          "text": [
            "\n"
          ]
        }
      ]
    },
    {
      "cell_type": "markdown",
      "source": [
        "## Challenges\n",
        "\n",
        "1. See if you can create something that can decrypt this cipher. \n",
        "\n",
        "2. Can you see why ROT-13 was a popular variant of this cipher? (Hint: what is special about a shift of 13)"
      ],
      "metadata": {
        "id": "Onhgvu_RMBp1"
      }
    },
    {
      "cell_type": "code",
      "source": [
        "# Caesar Cipher Decrypt"
      ],
      "metadata": {
        "id": "ezohj52NUL5F"
      },
      "execution_count": null,
      "outputs": []
    },
    {
      "cell_type": "markdown",
      "source": [
        "## Substitution Ciphers\n",
        "\n",
        "The Caesar cipher is a special variant of a more generic group of ciphers known as substitution ciphers. In a substitution cipher, as you may have guessed, one letter of the plaintext alphabet is substituted for another letter. In the Caesar cipher, the substitutions were made by just shifting the alphabet, but more complex ones can be made using random substitutions.\n",
        "\n",
        "For example,\n",
        "\n",
        "```\n",
        "Plaintext:  ABCDEFGHIJKLMNOPQRSTUVWXYZ\n",
        "Substitute: QWERTYUIOPASDFGHJKLZXCVBNM\n",
        "```\n",
        "\n",
        "See if you can write a function that will encrypt a message using this substitution."
      ],
      "metadata": {
        "id": "aubRoouJMa8j"
      }
    },
    {
      "cell_type": "code",
      "source": [
        "# Substitution Cipher Encrypt\n",
        "\n",
        "def substitution_encrypt(plaintext):\n",
        "\n",
        "  subs=\"QWERTYUIOPASDFGHJKLZXCVBNM\"\n",
        "\n",
        "  # Create an empty string to build the result in\n",
        "  encrypted = \"\"\n",
        "\n",
        "  # Only work in upper case: convert the plain text to upper case.\n",
        "\n",
        "  # Loop through each character in plaintext\n",
        "\n",
        "    # If this character is not A-Z, just leave it untouched\n",
        "\n",
        "    # Otherwise:\n",
        "\n",
        "      # Convert the character to an index into the substitution string\n",
        "      # Hint: you can subtract ord('A') to get back to 0 to 25\n",
        "\n",
        "      # Check it is in bounds (just in case)\n",
        "\n",
        "\n",
        "  return encrypted"
      ],
      "metadata": {
        "id": "fubPdK6MNkP2"
      },
      "execution_count": 1,
      "outputs": []
    },
    {
      "cell_type": "markdown",
      "source": [
        "Test it here:"
      ],
      "metadata": {
        "id": "KrHrkSdUOnTs"
      }
    },
    {
      "cell_type": "code",
      "source": [
        "print(substitution_encrypt(\"ABCDEFGHIJKLMNOPQRSTUVWXYZ\"))\n",
        "print(substitution_encrypt(\"The quick brown fox jumped over the lazy dog.\"))\n"
      ],
      "metadata": {
        "colab": {
          "base_uri": "https://localhost:8080/"
        },
        "id": "mu3NLAWgOpQf",
        "outputId": "652da71b-a016-45ef-a0f8-96d33c31286e"
      },
      "execution_count": 3,
      "outputs": [
        {
          "output_type": "stream",
          "name": "stdout",
          "text": [
            "QWERTYUIOPASDFGHJKLZXCVBNM\n",
            "ZIT JXOEA WKGVF YGB PXDHTR GCTK ZIT SQMN RGU.\n"
          ]
        }
      ]
    },
    {
      "cell_type": "markdown",
      "source": [
        "### Challenge\n",
        "\n",
        "Create a function that can decrypt these messages.\n"
      ],
      "metadata": {
        "id": "099oJf2nPr7b"
      }
    },
    {
      "cell_type": "code",
      "source": [
        "# Substitution Cipher Decrypt\n",
        "\n",
        "def substitution_decrypt(encrypted):\n",
        "\n",
        "  subs=\"QWERTYUIOPASDFGHJKLZXCVBNM\"\n",
        "\n",
        "  # Build a reverse substitution string\n",
        "  # Hint: Need to use a list here as we can't assign\n",
        "  #       to individual characters in a string\n",
        "  reverse = [\" \"] * 26\n",
        "    \n",
        "  # Create an empty string to build the result in\n",
        "\n",
        "  # Only work in upper case: convert the plain text to upper case.\n",
        "\n",
        "  # Loop through each character in encrypted string\n",
        "\n",
        "    # If this character is not A-Z, just leave it untouched\n",
        "\n",
        "    # Otherwise:\n",
        "\n",
        "      # Convert the character to an index into the substitution string\n",
        "\n",
        "      # Check it is in bounds (just in case)\n",
        "\n",
        "  return plaintext"
      ],
      "metadata": {
        "id": "0-X8hQVpP0Gd"
      },
      "execution_count": null,
      "outputs": []
    },
    {
      "cell_type": "markdown",
      "source": [
        "## Deciphering\n",
        "\n",
        "Creating our own ciphers and deciphering them is not too complex, but suppose you didn't know the shift number, or the substitutions, or even what technique was used to encrypt the messages you were listening to on the radio? That was the challenge that faced the code-breakers in Bletchley Hall back in the second world war. They designed & built their computers to help decipher messages they did not have the key to.\n",
        "\n",
        "### Breaking Simple Ciphers\n",
        "\n",
        "If you know the language the text is written in, and you suspect a substitution cipher, then you can use some properties of the language to make some educated guesses about some of the letters. In English, we know the most common letters are E, T, A, I, O, N, S, H, and R.\n",
        "\n",
        "But we can go further than that and look at the most commonly found letters at the start and ends of words. At the beginning of words, the most common letters are T, A, O, D, and W. And the most common endings are E, S, D, and T.\n",
        "\n",
        "Here's a block of encrypted text. Let's see if we can break the cipher using this information:\n",
        "\n",
        "> ZNSQJCGE BMN BKG ZCYDSNU QGW WSZCYDSNCGE JDST CU GBJ JBB ZBTYVSO, AMJ UMYYBUS LBM WCWG'J FGBK JDS UDCXJ GMTASN, BN JDS UMAUJCJMJCBGU, BN SISG KDQJ JSZDGCHMS KQU MUSW JB SGZNLYJ JDS TSUUQESU LBM KSNS VCUJSGCGE JB BG JDS NQWCB? JDQJ KQU JDS ZDQVVSGES JDQJ XQZSW JDS ZBWS-ANSQFSNU CG AVSJZDVSL DQVV AQZF CG JDS USZBGW KBNVW KQN. JDSL WSUCEGSW & AMCVJ JDSCN ZBTYMJSNU JB DSVY WSZCYDSN TSUUQESU JDSL WCW GBJ DQIS JDS FSL JB.\n",
        "\n",
        "In addition to the clues in the letter frequency, can you see any other things in that block of text that might help you guess letters?"
      ],
      "metadata": {
        "id": "DOUqcZHvPjvB"
      }
    },
    {
      "cell_type": "code",
      "source": [
        "encrypted=\"ZNSQJCGE BMN BKG ZCYDSNU QGW WSZCYDSNCGE JDST CU GBJ JBB ZBTYVSO, AMJ UMYYBUS LBM WCWG'J FGBK JDS UDCXJ GMTASN, BN JDS UMAUJCJMJCBGU, BN SISG KDQJ JSZDGCHMS KQU MUSW JB SGZNLYJ JDS TSUUQESU LBM KSNS VCUJSGCGE JB BG JDS NQWCB? JDQJ KQU JDS ZDQVVSGES JDQJ XQZSW JDS ZBWS-ANSQFSNU CG AVSJZDVSL DQVV AQZF CG JDS USZBGW KBNVW KQN. JDSL WSUCEGSW & AMCVJ JDSCN ZBTYMJSNU JB DSVY WSZCYDSN TSUUQESU JDSL WCW GBJ DQIS JDS FSL JB.\""
      ],
      "metadata": {
        "id": "3P07ohKkO3Ep"
      },
      "execution_count": 4,
      "outputs": []
    },
    {
      "cell_type": "code",
      "source": [],
      "metadata": {
        "id": "wAE1YeJHXwZp"
      },
      "execution_count": null,
      "outputs": []
    }
  ]
}