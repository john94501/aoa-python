{
  "nbformat": 4,
  "nbformat_minor": 0,
  "metadata": {
    "colab": {
      "provenance": [],
      "authorship_tag": "ABX9TyO8nAJTlntbeVZATzRuenHz",
      "include_colab_link": true
    },
    "kernelspec": {
      "name": "python3",
      "display_name": "Python 3"
    },
    "language_info": {
      "name": "python"
    },
    "gpuClass": "standard"
  },
  "cells": [
    {
      "cell_type": "markdown",
      "metadata": {
        "id": "view-in-github",
        "colab_type": "text"
      },
      "source": [
        "<a href=\"https://colab.research.google.com/github/john94501/aoa-python/blob/main/Section_4a.ipynb\" target=\"_parent\"><img src=\"https://colab.research.google.com/assets/colab-badge.svg\" alt=\"Open In Colab\"/></a>"
      ]
    },
    {
      "cell_type": "markdown",
      "source": [
        "# Academy of Alameda Python 4a\n",
        "\n",
        "## Ciphers\n",
        "\n",
        "Modern cryptography, the art of encrypting and decrypting messages, data etc, is well beyond the scope of this course, suffice to say modern computers are capable of things that the code breakers from WWII could not even imagine.\n",
        "\n",
        "Code breaking, however, is something we can explore, using simpler ciphers than even the Enigma machine. Some of these ciphers go back several thousand years.\n",
        "\n",
        "### The Ceasar Cipher\n",
        "\n",
        "One of the simplest ciphers to understand was used by Julius Caesar, the Roman Emperor, to encrypt messages sent to his army. It was almost certainly used well before that time, but his use of it made it famous, and so it is named after him.\n",
        "\n",
        "The Caesar Cipher is a substitution cipher. It has been widely used for masking text, even relatively recently. Some of the early Internet applications (before the World Wide Web was event thought of) used a variation of it called ROT-13.\n",
        "\n",
        "The idea is simple. Each letter of the alphabet is replaced by one a number of letters later. That number is called the shift. Caesar, apparently, used a shift of 3, so A became D, B became E, C became F and so on. The last three letters wrap around, so X becomes A, Y becomes B and Z becomes C.\n",
        "\n",
        "Let's write a Python function to encrypt a string using a given shift value:"
      ],
      "metadata": {
        "id": "DsICKDHYPpxY"
      }
    },
    {
      "cell_type": "markdown",
      "source": [
        "Before we start, we will need to know a few more things:\n",
        "\n",
        "### Character Encoding\n",
        "\n",
        "In the world of computers, the characters you type are all encoded as numbers. The common ones are encoded by integers in the range 32 to 126. That includes the upper case letters (A to Z), the lower case letters (a to z), the numeric digits (0 - 9), and all the punctuation and symbols on the keyboard.\n",
        "\n",
        "There are two functions in Python that let us switch between the numeric encoding (that can use arithmetic operators on) and the characters themselves (that we can build into strings):\n",
        "\n",
        "`ord()` turns a character from a string into a number\n",
        "\n",
        "`chr()` turns one of those numbers back to a character\n",
        "\n",
        "The good news is, that while 'A' is not 1, the letters A to Z are encoded in order, so we can still use simple addition to apply the shift value.\n",
        "\n",
        "### Accessing Characters In a String\n",
        "\n",
        "If you recall, strings can be sliced using the `[]` notation. They can also be iterated over using for / in - try it:"
      ],
      "metadata": {
        "id": "TBiIbG1_W5eX"
      }
    },
    {
      "cell_type": "code",
      "source": [
        "for letter in \"Here is a string\":\n",
        "  print(letter)"
      ],
      "metadata": {
        "id": "JODbGK6yYjgm"
      },
      "execution_count": null,
      "outputs": []
    },
    {
      "cell_type": "markdown",
      "source": [
        "### Comparing Characters\n",
        "\n",
        "We can also compare one character to another, so we can see, for example, whether our shifted letter is after 'Z' and needs to be wrapped back to the start of the alphabet like this - try it out with different letters in the first line:"
      ],
      "metadata": {
        "id": "lA8ZDMUtYts6"
      }
    },
    {
      "cell_type": "code",
      "source": [
        "letter=ord('X') + 3\n",
        "if chr(letter) > 'Z':\n",
        "  letter = letter - 26   # Back to the start of the alphabet\n",
        "print(chr(letter))"
      ],
      "metadata": {
        "colab": {
          "base_uri": "https://localhost:8080/"
        },
        "id": "cevIYv54ZC7S",
        "outputId": "3a055117-29a0-4abf-f416-86b6067e0c76"
      },
      "execution_count": null,
      "outputs": [
        {
          "output_type": "stream",
          "name": "stdout",
          "text": [
            "A\n"
          ]
        }
      ]
    },
    {
      "cell_type": "markdown",
      "source": [
        "### Putting it all Together\n",
        "\n",
        "Now write a Python function to encrypt some text, and try it with the block below once you think you have it working. I've added some comments as hints."
      ],
      "metadata": {
        "id": "mWY9faC_ZefR"
      }
    },
    {
      "cell_type": "code",
      "execution_count": null,
      "metadata": {
        "id": "k6iGib6HPoWq"
      },
      "outputs": [],
      "source": [
        "\n",
        "# Casear Cipher Encrypt\n",
        "\n",
        "def caesar_encrypt(plaintext, shift):\n",
        "\n",
        "  # Always a good idea to validate our input\n",
        "  # Check the shift is not less than 0 or greater than 25\n",
        "  # If it is, print a message and return None\n",
        "\n",
        "  # Create an empty string to build the result in\n",
        "  encrypted = \"\"\n",
        "\n",
        "  # Only work in upper case: convert the plain text to upper case.\n",
        "  # Hint: the .upper() function converts a string to upper case\n",
        "\n",
        "  # Loop through each character in plaintext\n",
        "\n",
        "    # If this character is not A-Z, just leave it untouched\n",
        "\n",
        "    # Otherwise:\n",
        "\n",
        "      # Convert the character to a number & add the shift\n",
        "\n",
        "      # If the new character is after 'Z', subtract 26\n",
        "\n",
        "      # Append to 'encrypted'\n",
        "\n",
        "  return encrypted"
      ]
    },
    {
      "cell_type": "code",
      "source": [
        "encrypted = caesar_encrypt(\"ABCDEFGHIJKLMNOPQRSTUVWXYZ\", 3)\n",
        "print(encrypted)"
      ],
      "metadata": {
        "colab": {
          "base_uri": "https://localhost:8080/"
        },
        "id": "JV__4t7DR42S",
        "outputId": "5c2c623a-d959-4264-e542-297163685520"
      },
      "execution_count": null,
      "outputs": [
        {
          "output_type": "stream",
          "name": "stdout",
          "text": [
            "\n"
          ]
        }
      ]
    },
    {
      "cell_type": "code",
      "source": [],
      "metadata": {
        "id": "ezohj52NUL5F"
      },
      "execution_count": null,
      "outputs": []
    }
  ]
}