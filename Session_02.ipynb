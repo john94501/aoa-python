{
  "nbformat": 4,
  "nbformat_minor": 0,
  "metadata": {
    "colab": {
      "provenance": [],
      "authorship_tag": "ABX9TyO7k0oMKQcZ2jekcwS9e9LW",
      "include_colab_link": true
    },
    "kernelspec": {
      "name": "python3",
      "display_name": "Python 3"
    },
    "language_info": {
      "name": "python"
    }
  },
  "cells": [
    {
      "cell_type": "markdown",
      "metadata": {
        "id": "view-in-github",
        "colab_type": "text"
      },
      "source": [
        "<a href=\"https://colab.research.google.com/github/john94501/aoa-python/blob/main/Session_02.ipynb\" target=\"_parent\"><img src=\"https://colab.research.google.com/assets/colab-badge.svg\" alt=\"Open In Colab\"/></a>"
      ]
    },
    {
      "cell_type": "markdown",
      "source": [
        "# Academy of Alameda Python 2\n",
        "\n",
        "## Data Structures\n",
        "\n",
        "In the last session we saw some of the basic types that Python has, integers, real numbers and strings. Python, in common with most modern programming languages, offers more complex data types that can be used without the need to write them from scratch - in the early days of home computing, students had to learn how to build these data structures using simple building blocks.\n",
        "\n",
        "The first two we will look at are called `tuples` and `lists`. At first, they may appear to be the same thing, but there are some key differences between them.\n"
      ],
      "metadata": {
        "id": "P2W2g4QZGue-"
      }
    },
    {
      "cell_type": "markdown",
      "source": [
        "## Tuples\n",
        "\n",
        "Tuples are written as lists of values inside parentheses, and they may be assigned to variables just like any of the simpler types we saw in the last session:"
      ],
      "metadata": {
        "id": "RZTA14azNC9R"
      }
    },
    {
      "cell_type": "code",
      "source": [
        "my_tuple = (1, 2, 3, 4)\n",
        "print(my_tuple)"
      ],
      "metadata": {
        "colab": {
          "base_uri": "https://localhost:8080/"
        },
        "id": "qKl8PenRNalK",
        "outputId": "7d376855-1f1b-41ca-86c8-d779f5249035"
      },
      "execution_count": 2,
      "outputs": [
        {
          "output_type": "stream",
          "name": "stdout",
          "text": [
            "(1, 2, 3, 4)\n"
          ]
        }
      ]
    },
    {
      "cell_type": "markdown",
      "source": [
        "As you might expect, you can also access individual elements of the tuple, using the `[]` notation we used to access individual characters of a string, or even find out how many elements are in it:"
      ],
      "metadata": {
        "id": "RCOjP39pNeem"
      }
    },
    {
      "cell_type": "code",
      "execution_count": null,
      "metadata": {
        "id": "cl1QnP2_Grgp"
      },
      "outputs": [],
      "source": [
        "print(my_tuple[0])"
      ]
    },
    {
      "cell_type": "code",
      "source": [
        "print(len(my_tuple))"
      ],
      "metadata": {
        "id": "gTFb6-bjN3D4"
      },
      "execution_count": null,
      "outputs": []
    },
    {
      "cell_type": "markdown",
      "source": [
        "That second example used a **_function_**, `len()` to return the length of the tuple. The `len()` function can also be used with lists, and with strings. We will see more functions later in the course."
      ],
      "metadata": {
        "id": "alD07vr6N6Z5"
      }
    },
    {
      "cell_type": "markdown",
      "source": [
        "Try writing something to print the 2nd and 3rd elements of `my_tuple` in the block below."
      ],
      "metadata": {
        "id": "_1WkVkVPOgFM"
      }
    },
    {
      "cell_type": "code",
      "source": [
        "# Hint: Remember how we accessed consecutive characters in a string\n"
      ],
      "metadata": {
        "id": "7QuWBfRzOnPz"
      },
      "execution_count": null,
      "outputs": []
    },
    {
      "cell_type": "markdown",
      "source": [
        "You cannot directly add new values to a tuple, but you can combine two tuples to form a new one (the `union` of the two tuples):"
      ],
      "metadata": {
        "id": "APxQRGiIPtUr"
      }
    },
    {
      "cell_type": "code",
      "source": [
        "my_tuple = (1, 2, 3, 4, 5)\n",
        "print(my_tuple)\n",
        "my_tuple += (6,)\n",
        "print(my_tuple)\n",
        "# Notce the comma there to make sure Python realizes that this is a tuple and\n",
        "# not just an expression."
      ],
      "metadata": {
        "colab": {
          "base_uri": "https://localhost:8080/"
        },
        "id": "jPUH53LbP9kE",
        "outputId": "5eb8c2ea-3e26-4f9c-8aa3-3d2f83aaf326"
      },
      "execution_count": 4,
      "outputs": [
        {
          "output_type": "stream",
          "name": "stdout",
          "text": [
            "(1, 2, 3, 4, 5)\n",
            "(1, 2, 3, 4, 5, 6, 7)\n"
          ]
        }
      ]
    },
    {
      "cell_type": "markdown",
      "source": [
        "Try modifying that block to add more than one element to the tuple."
      ],
      "metadata": {
        "id": "Sr2-ozqDQeoh"
      }
    },
    {
      "cell_type": "markdown",
      "source": [
        "What you cannot do with a tuple is change the value of any of its elements. This is the main difference between tuples and lists. List elements can be changed."
      ],
      "metadata": {
        "id": "aI1AMYQiORFf"
      }
    },
    {
      "cell_type": "code",
      "source": [
        "my_tuple[0] = 0"
      ],
      "metadata": {
        "colab": {
          "base_uri": "https://localhost:8080/"
        },
        "id": "BRYsIM7FPEGr",
        "outputId": "ffa721a4-9052-4cf7-e7e1-166f7c7154ff"
      },
      "execution_count": 7,
      "outputs": [
        {
          "output_type": "error",
          "ename": "TypeError",
          "evalue": "ignored",
          "traceback": [
            "\u001b[0;31m---------------------------------------------------------------------------\u001b[0m",
            "\u001b[0;31mTypeError\u001b[0m                                 Traceback (most recent call last)",
            "\u001b[0;32m<ipython-input-7-c6775adf20f8>\u001b[0m in \u001b[0;36m<cell line: 1>\u001b[0;34m()\u001b[0m\n\u001b[0;32m----> 1\u001b[0;31m \u001b[0mmy_tuple\u001b[0m\u001b[0;34m[\u001b[0m\u001b[0;36m0\u001b[0m\u001b[0;34m]\u001b[0m \u001b[0;34m=\u001b[0m \u001b[0;36m0\u001b[0m\u001b[0;34m\u001b[0m\u001b[0;34m\u001b[0m\u001b[0m\n\u001b[0m\u001b[1;32m      2\u001b[0m \u001b[0mprint\u001b[0m\u001b[0;34m(\u001b[0m\u001b[0mmy_tuple\u001b[0m\u001b[0;34m)\u001b[0m\u001b[0;34m\u001b[0m\u001b[0;34m\u001b[0m\u001b[0m\n",
            "\u001b[0;31mTypeError\u001b[0m: 'tuple' object does not support item assignment"
          ]
        }
      ]
    },
    {
      "cell_type": "markdown",
      "source": [
        "## Lists\n",
        "\n",
        "So, let's take a look at lists. As you might expect, they are very similar. Instead of using parentheses, you define lists using square brackets:"
      ],
      "metadata": {
        "id": "bR3SWVHpQz5e"
      }
    },
    {
      "cell_type": "code",
      "source": [
        "my_list = [1, 2, 3, 4]\n",
        "print(my_list)"
      ],
      "metadata": {
        "colab": {
          "base_uri": "https://localhost:8080/"
        },
        "id": "QrYQgu4ZQwc0",
        "outputId": "4bbfe1d3-090c-47a7-a13b-2e7223227269"
      },
      "execution_count": 6,
      "outputs": [
        {
          "output_type": "stream",
          "name": "stdout",
          "text": [
            "[1, 2, 3, 4]\n"
          ]
        }
      ]
    },
    {
      "cell_type": "markdown",
      "source": [
        "Write the code needed to print the first element of the list, and the length of the list in the code block below."
      ],
      "metadata": {
        "id": "VmAJJLsxRJwp"
      }
    },
    {
      "cell_type": "code",
      "source": [],
      "metadata": {
        "id": "KqSIE_FkRQ8m"
      },
      "execution_count": null,
      "outputs": []
    },
    {
      "cell_type": "markdown",
      "source": [
        "Adding to a list is same as well:"
      ],
      "metadata": {
        "id": "DKjnAsQvRUM3"
      }
    },
    {
      "cell_type": "code",
      "source": [
        "my_list = [1, 2, 3, 4, 5]\n",
        "print(my_list)\n",
        "my_list += [6, ]\n",
        "print(my_list)"
      ],
      "metadata": {
        "colab": {
          "base_uri": "https://localhost:8080/"
        },
        "id": "wbZjj2Z2N1P9",
        "outputId": "f574cd2e-7ef5-4f96-870d-4c1e4565109e"
      },
      "execution_count": 7,
      "outputs": [
        {
          "output_type": "stream",
          "name": "stdout",
          "text": [
            "[1, 2, 3, 4, 5]\n",
            "[1, 2, 3, 4, 5, 6]\n"
          ]
        }
      ]
    },
    {
      "cell_type": "markdown",
      "source": [
        "But now you can change the values as well:"
      ],
      "metadata": {
        "id": "dlCnjlvIRmfB"
      }
    },
    {
      "cell_type": "code",
      "source": [
        "my_list[0] = 100\n",
        "print(my_list)"
      ],
      "metadata": {
        "colab": {
          "base_uri": "https://localhost:8080/"
        },
        "id": "vm-YbjRSRkbn",
        "outputId": "2e838c20-891f-431e-8956-bc31db2d634c"
      },
      "execution_count": 8,
      "outputs": [
        {
          "output_type": "stream",
          "name": "stdout",
          "text": [
            "[100, 2, 3, 4, 5, 6]\n"
          ]
        }
      ]
    },
    {
      "cell_type": "code",
      "source": [],
      "metadata": {
        "id": "YOrAdd66RzJ-"
      },
      "execution_count": null,
      "outputs": []
    }
  ]
}