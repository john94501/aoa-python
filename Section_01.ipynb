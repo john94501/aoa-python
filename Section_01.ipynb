{
  "nbformat": 4,
  "nbformat_minor": 0,
  "metadata": {
    "colab": {
      "provenance": [],
      "authorship_tag": "ABX9TyOyqVgorru72LTMmM+raiMS",
      "include_colab_link": true
    },
    "kernelspec": {
      "name": "python3",
      "display_name": "Python 3"
    },
    "language_info": {
      "name": "python"
    }
  },
  "cells": [
    {
      "cell_type": "markdown",
      "metadata": {
        "id": "view-in-github",
        "colab_type": "text"
      },
      "source": [
        "<a href=\"https://colab.research.google.com/github/john94501/aoa-python/blob/main/Section_01.ipynb\" target=\"_parent\"><img src=\"https://colab.research.google.com/assets/colab-badge.svg\" alt=\"Open In Colab\"/></a>"
      ]
    },
    {
      "cell_type": "markdown",
      "source": [
        "# Academy of Alameda Python 1\n",
        "\n",
        "## Introduction to Python\n",
        "\n",
        "Python is the text-based programming language used by millions of professional coders at places like Google, IBM, and even NASA! It can be used for simple utilities, Artificial Intelligence and Machine Learning, data analysis and even writing games or controlling electronics - everything from simple decorations to complex robots. \n",
        "\n",
        "![skull](https://bluedonkey.org/wp-content/uploads/2020/10/skull-190x300.jpg)\n",
        "\n",
        "You can see the animated version of this and see the Python code that was used to make the eyes flash and spin in the [article describing how this was built](https://bluedonkey.org/2020/10/26/skull-eyes-project/).\n",
        "\n"
      ],
      "metadata": {
        "id": "KbeShQulm-7-"
      }
    },
    {
      "cell_type": "markdown",
      "source": [
        "## Course Outline\n",
        "\n",
        "### Section 1 - Intro to Python\n",
        "\n",
        "   * First program and intro to Colab\n",
        "   * Operators\n",
        "   * Types\n",
        "   * Expressions and variables\n",
        "   * Strings\n",
        "\n",
        "### Section 2 - Data Structures\n",
        "\n",
        "   * Tuples\n",
        "   * Lists\n",
        "   * Dictionaries\n",
        "   * Sets\n",
        "\n",
        "### Section 3 - Programming Fundamentals\n",
        "\n",
        "   * Conditionals\n",
        "   * Looping\n",
        "   * Functions\n",
        "\n",
        "### Section 4 - An application (TBD)\n",
        "\n",
        "One of:\n",
        "   * Text adventure (game dev)\n",
        "   * Turn-by-turn game\n",
        "   * Chatbot (a take on Eliza - the classic chat app)\n",
        "   * An AI application using the OpenAI LLM to answer questions\n"
      ],
      "metadata": {
        "id": "jmpbBkk7qtG-"
      }
    },
    {
      "cell_type": "markdown",
      "source": [
        "## Colab & Python Notebooks\n",
        "\n",
        "This environment is a way to experiment with Python and a great way to learn the language, but it is not how you would write a full Python application. Full applications would normally be written directly into text files. An simple application might be just one file, but larger, more complex applications would likely be in many files.\n",
        "\n",
        "Python notebooks are used more for experimenting, but they have found a place in machine learning and data analysis applications as well since they can be easily shared with others.\n",
        "\n",
        "Colab is an online version of a Python notebook environment that means we can write Python programs without needing to install any software on our Chromebooks. So, let's write our first Python program and run it right here.\n",
        "\n",
        "To run the very simple, one-line program click into the section below then press Shift + Enter, or click the play icon to the left."
      ],
      "metadata": {
        "id": "2HV7IU4DrtVj"
      }
    },
    {
      "cell_type": "code",
      "execution_count": null,
      "metadata": {
        "id": "YlA88EIgm1EV"
      },
      "outputs": [],
      "source": [
        "print(\"Hello Academy of Alameda\")"
      ]
    },
    {
      "cell_type": "markdown",
      "source": [
        "When you run the program, any output it generates is shown in the area below the program. In the next block, try printing your own message."
      ],
      "metadata": {
        "id": "GUIvuk9gu4Xx"
      }
    },
    {
      "cell_type": "code",
      "source": [],
      "metadata": {
        "id": "_baXyjEkwdSQ"
      },
      "execution_count": null,
      "outputs": []
    },
    {
      "cell_type": "markdown",
      "source": [
        "## Python Basics\n",
        "\n",
        "Programming languages are not as forgiving as spoken languages. They have strict rules for how you type each command, and if you don't follow those rules they will either reject your program, or do the wrong thing.\n",
        "\n",
        "As we saw above, Python uses lower case for reserved commands, like `print`, but you are free to use upper case letters in variable names and function names (we'll learn about those later on).\n",
        "\n",
        "They are also strict about the types of quotes you use (`\"` or `'`), the types of bracket used, and making sure you match them up correctly.\n",
        "\n",
        "Additionally, Python has one other rule, that makes it different from the majority of programming languages you will encounter: it has strict rules for indenting code.\n",
        "\n",
        "Take a look at the next block of code. Notice the red bar on the right hand side indicating a line with an error on it, and the underlined keyword. If you click into the block and then hover over the underlined word, it should show you the error message: \"Unexpected indentation.\""
      ],
      "metadata": {
        "id": "tyaYyLlUwi8n"
      }
    },
    {
      "cell_type": "code",
      "source": [
        "print(\"Hello World\")\n",
        "  print(\"Welcome to the world of Python\")"
      ],
      "metadata": {
        "id": "2G9zUM4auNbG"
      },
      "execution_count": null,
      "outputs": []
    },
    {
      "cell_type": "markdown",
      "source": [
        "See if you can fix the code above.\n",
        "\n",
        "Colab will also tell you about other mistakes you make as you write your code."
      ],
      "metadata": {
        "id": "ypwy37EEz_dE"
      }
    },
    {
      "cell_type": "markdown",
      "source": [
        "### Comments\n",
        "\n",
        "It is good practice when writing code (in any programming language) to add comments explaining what the code is intended to do, and explaining anything special. Any line you start with the `#` symbol in Python will be treated as a comment and ignored.\n",
        "\n",
        "In Colab (and other Python notebook environments), you can also insert text blocks like the ones you've been following that can replace some of the comments. Comments can still be useful to explain specific lines of code, so notebooks still allow them.\n",
        "\n",
        "This course will use them sometimes to provide hints about how to solve problems too."
      ],
      "metadata": {
        "id": "-BfnEV7b4VY7"
      }
    },
    {
      "cell_type": "code",
      "source": [
        "# Here is an example of a comment in the code. Running this block will do nothing!"
      ],
      "metadata": {
        "id": "X_mbHhVy5Fox"
      },
      "execution_count": null,
      "outputs": []
    },
    {
      "cell_type": "markdown",
      "source": [
        "## Operators\n",
        "\n",
        "Operators in a programming language refers to the symbols we use for simple arithmetic operations. You are already familiar with most of these:\n",
        "\n",
        "  * Addition\n",
        "  * Subtraction\n",
        "  * Multiplication\n",
        "  * Division\n",
        "\n",
        "The symbols for addition and subtraction are exactly what you would expect. Multiplication and division do not use the symbols you have seen in math classes. Instead, programming languages use `*` for multiplication and `/` for division. \n",
        "\n",
        "In the block below, try calculating the following\n",
        "\n",
        "1. 1024 + 4096\n",
        "2. 1000000 - 45678\n",
        "3. 3.14159 x 67.5\n",
        "4. 22 ÷ 7"
      ],
      "metadata": {
        "id": "Wy6A5OL51x7W"
      }
    },
    {
      "cell_type": "code",
      "source": [
        "# You can use `print()` the way did above to print the results of each calculation.\n",
        "# Don't wrap your calculation in quotes, otherwise Python will just print the expression and not calculate the answer."
      ],
      "metadata": {
        "id": "ySWgWNf-zqoc"
      },
      "execution_count": null,
      "outputs": []
    },
    {
      "cell_type": "markdown",
      "source": [
        "### More Operators\n",
        "\n",
        "In addition to the basic arithmetic operators, Python has operators for:\n",
        "\n",
        "* Modulus (the remainder of a division): `%`\n",
        "* Exponentiation (raise to a power): `**`\n",
        "* Conditionals (for comparing things):\n",
        "  * Equal: `==`\n",
        "  * Not Equal: `!=`\n",
        "  * Greater Than: `>`\n",
        "  * Greater Than or Equal: `>=`\n",
        "  * Less Than: `<`\n",
        "  * Less Than or Equal: `<=`\n",
        "\n",
        "We will see conditionals later on in the course.\n",
        "\n",
        "Python also supports parentheses `(` and `)` to adjust the order of evaluation - the same as you have done in your math classes. In the block below, try parentheses to see the difference between:\n",
        "\n",
        "* 5 x 10 + 3\n",
        "* 5 x (10 + 3)"
      ],
      "metadata": {
        "id": "tgumTBmW5j63"
      }
    },
    {
      "cell_type": "code",
      "source": [
        "# Hint: Remember the operator for multiplication is not 'x'"
      ],
      "metadata": {
        "id": "ReuLhzW8642x"
      },
      "execution_count": null,
      "outputs": []
    },
    {
      "cell_type": "markdown",
      "source": [
        "## Types\n",
        "\n",
        "Types refers to the type of data something represents. At the highest level, that could just be the difference between numbers and text (called `strings` in programming languages).\n",
        "\n",
        "In Python, we have strings, two types of numbers (integers and real) and booleans (things that are either `true` or `false`). \n",
        "\n",
        "* Strings are wrapped in either single or double quotes\n",
        "* Integers are whole numbers\n",
        "* Real numbers have a decimal portion\n",
        "* Booleans in Python are either `True` or `False` (notice the upper case first letter)\n",
        "\n",
        "Python is not a strongly typed language, and will try to make the most sense out of an expression by converting between types. Not all conversions are possible, however, and things like trying to multiply by a string, even if the string looks like a number, will not work."
      ],
      "metadata": {
        "id": "I_fj-x7z7O0d"
      }
    },
    {
      "cell_type": "code",
      "source": [
        "# Notice below, we can add comments on the end of lines too to explain the line\n",
        "print(\"This is a string in double quotes\")\n",
        "print('This is a string in single quotes')\n",
        "print(1000)      # This is an integer\n",
        "print(1000.0)    # This is a real number, aka a floating point number\n",
        "print(100 * 4.5) # The result of this is a real number\n",
        "print(4 * 5)     # The result of this is an integer\n",
        "print(40 * \"7\")  # This one is going to surprise you - can you explain it?"
      ],
      "metadata": {
        "id": "iFWwlBdq4Evg"
      },
      "execution_count": null,
      "outputs": []
    },
    {
      "cell_type": "code",
      "source": [
        "# Try some other things...\n",
        "\n",
        "# Hint: Any that don't work, you can convert to a comment by just adding a #\n",
        "# at the start of the line - programmers do this all the time, we call it \n",
        "# 'commenting out code' and we do it for things that don't work, or things we\n",
        "# want to just stop temporarily, perhaps to test something.\n",
        "\n",
        "# Try adding a string and an integer: \"100\" + 1\n",
        "\n",
        "# Try adding two strings: \"100\" + \"100\"\n"
      ],
      "metadata": {
        "id": "inxktRPc-JuG"
      },
      "execution_count": null,
      "outputs": []
    },
    {
      "cell_type": "markdown",
      "source": [
        "## Strings\n",
        "\n",
        "We've seen some special cases for strings where we can join them, or use the multiplication operator to replicate them. Strings have a whole library of special operations that can be used to manipulate them. In addition, you can access individual characters or slices of characters using the `[]` notation:\n"
      ],
      "metadata": {
        "id": "6vSm-NwIFI4J"
      }
    },
    {
      "cell_type": "code",
      "source": [
        "example=\"Academy of Alameda\"\n",
        "print(example[0])             # Indexes start from 0 in Python\n",
        "\n",
        "# Just the first word\n",
        "print(example[:7])            # Take the first seven letters\n",
        "\n",
        "# Just the last word\n",
        "print(example[11:])           # From the 11th to the end\n",
        "\n",
        "# Just the middle word\n",
        "print(example[8:10])          # From 8th to the character before the 10th"
      ],
      "metadata": {
        "id": "qw-0dxsNGRCZ"
      },
      "execution_count": null,
      "outputs": []
    },
    {
      "cell_type": "markdown",
      "source": [
        "## Expressions and Variables\n",
        "\n",
        "We have seen some examples of **expressions** already. The calculations we did above are all simple expressions. Some programming languages, called _functional programming_ languages, force the programmer to write everything as an expression. While you can create complex prograns using that approach, it is not as easy to learn. Python, like the most commonly used programming languages, also has a concept called **variables**.\n",
        "\n",
        "In math, you have probably already ancountered the concept of a variable. Mathematicians will frequently use simple variables, like _x_, in their expressions to represent an unknown value. In programming, we don't use them to represent an unknown. Instead, we use them as ways to remember values, and we prefer them to have more meaningful names.\n",
        "\n",
        "Here is a simple example - try changing the name and height at the top to see what happens."
      ],
      "metadata": {
        "id": "hyMuicax_T56"
      }
    },
    {
      "cell_type": "code",
      "source": [
        "my_name = \"John\"\n",
        "my_height = 6.17    # in feet\n",
        "\n",
        "# The next line shows an example of the new way to format what you print\n",
        "print(\"{} is {} cm tall\".format(my_name, (my_height * 30.48)))\n",
        "\n",
        "# The old way, which you might still see in some Python code, would have been:\n",
        "print(\"%s is %f cm tall\" % (my_name, (my_height * 30.48)))\n",
        "\n",
        "# The old way required the type of each value being substituted (the `%s`\n",
        "# and `%f` in the format string) to match the type of the value in the list.\n",
        "# The new way of formatting does not require that and will make the best choice\n",
        "# of type to use based on the variable, or expression result."
      ],
      "metadata": {
        "id": "Gel00SGW8C6_"
      },
      "execution_count": null,
      "outputs": []
    },
    {
      "cell_type": "markdown",
      "source": [
        "Variable names can be almost anything, but there are some rules:\n",
        "\n",
        "* They must start with a letter (can be upper case or lower csase)\n",
        "* They can only contain letters, numbers and the underscore (`_`)\n",
        "* You cannot use a reserved word for a variable name (e.g. 'if')\n"
      ],
      "metadata": {
        "id": "LCGcV2BHDosX"
      }
    },
    {
      "cell_type": "markdown",
      "source": [
        "## Challenges\n",
        "\n",
        "1. Write a version of the fragment above that displays your height in cm, but rather than setting your height in feet as a decimal, set height in feet and inches.\n",
        "\n",
        "```\n",
        "```"
      ],
      "metadata": {
        "id": "LedLuLND_SKG"
      }
    },
    {
      "cell_type": "code",
      "source": [
        "my_name = \"John\"\n",
        "my_height_feet = 6\n",
        "my_height_inches = 2\n",
        "\n",
        "# Add your code under here\n"
      ],
      "metadata": {
        "id": "WRcPBHn6EWfe"
      },
      "execution_count": null,
      "outputs": []
    },
    {
      "cell_type": "markdown",
      "source": [
        "2. Modify the code above to display height in meters and centimeters, rather than as just centimeters."
      ],
      "metadata": {
        "id": "I082T8RIEkVa"
      }
    },
    {
      "cell_type": "code",
      "source": [
        "my_name = \"John\"\n",
        "my_height_feet = 6\n",
        "my_height_inches = 2\n",
        "\n",
        "# Add your code under here\n"
      ],
      "metadata": {
        "id": "7sEXr_EeEwbl"
      },
      "execution_count": null,
      "outputs": []
    },
    {
      "cell_type": "markdown",
      "source": [
        "# Next: Data Structures\n",
        "\n",
        "[Section Two](https://colab.research.google.com/github/john94501/aoa-python/blob/main/Section_02.ipynb)"
      ],
      "metadata": {
        "id": "tT1kilTgEu9X"
      }
    }
  ]
}